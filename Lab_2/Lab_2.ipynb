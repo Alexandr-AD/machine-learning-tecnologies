{
 "cells": [
  {
   "cell_type": "code",
   "execution_count": 1,
   "id": "54b1a4de",
   "metadata": {},
   "outputs": [],
   "source": [
    "import numpy as np\n",
    "import pandas as pd\n",
    "import seaborn as sns\n",
    "import matplotlib.pyplot as plt\n",
    "%matplotlib inline \n",
    "sns.set(style=\"ticks\")"
   ]
  },
  {
   "cell_type": "code",
   "execution_count": 2,
   "id": "e0dd7a0a",
   "metadata": {},
   "outputs": [],
   "source": [
    "path = 'C:/Users/79772/Desktop/3 курс/6 сем/ТМО/Лабы/Лаб. 2/20220327 annual-number-of-deaths-by-cause.csv'\n",
    "data = pd.read_csv(path, sep=',')"
   ]
  },
  {
   "cell_type": "code",
   "execution_count": 3,
   "id": "80393ba7",
   "metadata": {},
   "outputs": [
    {
     "data": {
      "text/plain": [
       "(8254, 36)"
      ]
     },
     "execution_count": 3,
     "metadata": {},
     "output_type": "execute_result"
    }
   ],
   "source": [
    "data.shape"
   ]
  },
  {
   "cell_type": "code",
   "execution_count": 4,
   "id": "7694202c",
   "metadata": {},
   "outputs": [
    {
     "data": {
      "text/plain": [
       "Entity                                                                                       object\n",
       "Code                                                                                         object\n",
       "Year                                                                                          int64\n",
       "Number of executions (Amnesty International)                                                 object\n",
       "Deaths - Meningitis - Sex: Both - Age: All Ages (Number)                                    float64\n",
       "Deaths - Neoplasms - Sex: Both - Age: All Ages (Number)                                     float64\n",
       "Deaths - Fire, heat, and hot substances - Sex: Both - Age: All Ages (Number)                float64\n",
       "Deaths - Malaria - Sex: Both - Age: All Ages (Number)                                       float64\n",
       "Deaths - Drowning - Sex: Both - Age: All Ages (Number)                                      float64\n",
       "Deaths - Interpersonal violence - Sex: Both - Age: All Ages (Number)                        float64\n",
       "Deaths - HIV/AIDS - Sex: Both - Age: All Ages (Number)                                      float64\n",
       "Deaths - Drug use disorders - Sex: Both - Age: All Ages (Number)                            float64\n",
       "Deaths - Tuberculosis - Sex: Both - Age: All Ages (Number)                                  float64\n",
       "Deaths - Road injuries - Sex: Both - Age: All Ages (Number)                                 float64\n",
       "Deaths - Maternal disorders - Sex: Both - Age: All Ages (Number)                            float64\n",
       "Deaths - Lower respiratory infections - Sex: Both - Age: All Ages (Number)                  float64\n",
       "Deaths - Neonatal disorders - Sex: Both - Age: All Ages (Number)                            float64\n",
       "Deaths - Alcohol use disorders - Sex: Both - Age: All Ages (Number)                         float64\n",
       "Deaths - Exposure to forces of nature - Sex: Both - Age: All Ages (Number)                  float64\n",
       "Deaths - Diarrheal diseases - Sex: Both - Age: All Ages (Number)                            float64\n",
       "Deaths - Environmental heat and cold exposure - Sex: Both - Age: All Ages (Number)          float64\n",
       "Deaths - Nutritional deficiencies - Sex: Both - Age: All Ages (Number)                      float64\n",
       "Deaths - Self-harm - Sex: Both - Age: All Ages (Number)                                     float64\n",
       "Deaths - Conflict and terrorism - Sex: Both - Age: All Ages (Number)                        float64\n",
       "Deaths - Diabetes mellitus - Sex: Both - Age: All Ages (Number)                             float64\n",
       "Deaths - Poisonings - Sex: Both - Age: All Ages (Number)                                    float64\n",
       "Deaths - Protein-energy malnutrition - Sex: Both - Age: All Ages (Number)                   float64\n",
       "Terrorism (deaths)                                                                          float64\n",
       "Deaths - Cardiovascular diseases - Sex: Both - Age: All Ages (Number)                       float64\n",
       "Deaths - Chronic kidney disease - Sex: Both - Age: All Ages (Number)                        float64\n",
       "Deaths - Chronic respiratory diseases - Sex: Both - Age: All Ages (Number)                  float64\n",
       "Deaths - Cirrhosis and other chronic liver diseases - Sex: Both - Age: All Ages (Number)    float64\n",
       "Deaths - Digestive diseases - Sex: Both - Age: All Ages (Number)                            float64\n",
       "Deaths - Acute hepatitis - Sex: Both - Age: All Ages (Number)                               float64\n",
       "Deaths - Alzheimer's disease and other dementias - Sex: Both - Age: All Ages (Number)       float64\n",
       "Deaths - Parkinson's disease - Sex: Both - Age: All Ages (Number)                           float64\n",
       "dtype: object"
      ]
     },
     "execution_count": 4,
     "metadata": {},
     "output_type": "execute_result"
    }
   ],
   "source": [
    "data.dtypes"
   ]
  },
  {
   "cell_type": "code",
   "execution_count": 5,
   "id": "3fe34e98",
   "metadata": {},
   "outputs": [
    {
     "data": {
      "text/plain": [
       "Entity                                                                                         0\n",
       "Code                                                                                        2048\n",
       "Year                                                                                           0\n",
       "Number of executions (Amnesty International)                                                7987\n",
       "Deaths - Meningitis - Sex: Both - Age: All Ages (Number)                                     244\n",
       "Deaths - Neoplasms - Sex: Both - Age: All Ages (Number)                                      244\n",
       "Deaths - Fire, heat, and hot substances - Sex: Both - Age: All Ages (Number)                 244\n",
       "Deaths - Malaria - Sex: Both - Age: All Ages (Number)                                        244\n",
       "Deaths - Drowning - Sex: Both - Age: All Ages (Number)                                       244\n",
       "Deaths - Interpersonal violence - Sex: Both - Age: All Ages (Number)                         244\n",
       "Deaths - HIV/AIDS - Sex: Both - Age: All Ages (Number)                                       244\n",
       "Deaths - Drug use disorders - Sex: Both - Age: All Ages (Number)                             244\n",
       "Deaths - Tuberculosis - Sex: Both - Age: All Ages (Number)                                   244\n",
       "Deaths - Road injuries - Sex: Both - Age: All Ages (Number)                                  244\n",
       "Deaths - Maternal disorders - Sex: Both - Age: All Ages (Number)                             244\n",
       "Deaths - Lower respiratory infections - Sex: Both - Age: All Ages (Number)                   244\n",
       "Deaths - Neonatal disorders - Sex: Both - Age: All Ages (Number)                             244\n",
       "Deaths - Alcohol use disorders - Sex: Both - Age: All Ages (Number)                          244\n",
       "Deaths - Exposure to forces of nature - Sex: Both - Age: All Ages (Number)                   244\n",
       "Deaths - Diarrheal diseases - Sex: Both - Age: All Ages (Number)                             244\n",
       "Deaths - Environmental heat and cold exposure - Sex: Both - Age: All Ages (Number)           244\n",
       "Deaths - Nutritional deficiencies - Sex: Both - Age: All Ages (Number)                       244\n",
       "Deaths - Self-harm - Sex: Both - Age: All Ages (Number)                                      244\n",
       "Deaths - Conflict and terrorism - Sex: Both - Age: All Ages (Number)                         244\n",
       "Deaths - Diabetes mellitus - Sex: Both - Age: All Ages (Number)                              244\n",
       "Deaths - Poisonings - Sex: Both - Age: All Ages (Number)                                     244\n",
       "Deaths - Protein-energy malnutrition - Sex: Both - Age: All Ages (Number)                    244\n",
       "Terrorism (deaths)                                                                          5363\n",
       "Deaths - Cardiovascular diseases - Sex: Both - Age: All Ages (Number)                        244\n",
       "Deaths - Chronic kidney disease - Sex: Both - Age: All Ages (Number)                         244\n",
       "Deaths - Chronic respiratory diseases - Sex: Both - Age: All Ages (Number)                   244\n",
       "Deaths - Cirrhosis and other chronic liver diseases - Sex: Both - Age: All Ages (Number)     244\n",
       "Deaths - Digestive diseases - Sex: Both - Age: All Ages (Number)                             244\n",
       "Deaths - Acute hepatitis - Sex: Both - Age: All Ages (Number)                                244\n",
       "Deaths - Alzheimer's disease and other dementias - Sex: Both - Age: All Ages (Number)        244\n",
       "Deaths - Parkinson's disease - Sex: Both - Age: All Ages (Number)                            244\n",
       "dtype: int64"
      ]
     },
     "execution_count": 5,
     "metadata": {},
     "output_type": "execute_result"
    }
   ],
   "source": [
    "data.isnull().sum()"
   ]
  },
  {
   "cell_type": "code",
   "execution_count": 6,
   "id": "9e35e5fb",
   "metadata": {},
   "outputs": [
    {
     "data": {
      "text/html": [
       "<div>\n",
       "<style scoped>\n",
       "    .dataframe tbody tr th:only-of-type {\n",
       "        vertical-align: middle;\n",
       "    }\n",
       "\n",
       "    .dataframe tbody tr th {\n",
       "        vertical-align: top;\n",
       "    }\n",
       "\n",
       "    .dataframe thead th {\n",
       "        text-align: right;\n",
       "    }\n",
       "</style>\n",
       "<table border=\"1\" class=\"dataframe\">\n",
       "  <thead>\n",
       "    <tr style=\"text-align: right;\">\n",
       "      <th></th>\n",
       "      <th>Entity</th>\n",
       "      <th>Code</th>\n",
       "      <th>Year</th>\n",
       "      <th>Number of executions (Amnesty International)</th>\n",
       "      <th>Deaths - Meningitis - Sex: Both - Age: All Ages (Number)</th>\n",
       "      <th>Deaths - Neoplasms - Sex: Both - Age: All Ages (Number)</th>\n",
       "      <th>Deaths - Fire, heat, and hot substances - Sex: Both - Age: All Ages (Number)</th>\n",
       "      <th>Deaths - Malaria - Sex: Both - Age: All Ages (Number)</th>\n",
       "      <th>Deaths - Drowning - Sex: Both - Age: All Ages (Number)</th>\n",
       "      <th>Deaths - Interpersonal violence - Sex: Both - Age: All Ages (Number)</th>\n",
       "      <th>...</th>\n",
       "      <th>Deaths - Protein-energy malnutrition - Sex: Both - Age: All Ages (Number)</th>\n",
       "      <th>Terrorism (deaths)</th>\n",
       "      <th>Deaths - Cardiovascular diseases - Sex: Both - Age: All Ages (Number)</th>\n",
       "      <th>Deaths - Chronic kidney disease - Sex: Both - Age: All Ages (Number)</th>\n",
       "      <th>Deaths - Chronic respiratory diseases - Sex: Both - Age: All Ages (Number)</th>\n",
       "      <th>Deaths - Cirrhosis and other chronic liver diseases - Sex: Both - Age: All Ages (Number)</th>\n",
       "      <th>Deaths - Digestive diseases - Sex: Both - Age: All Ages (Number)</th>\n",
       "      <th>Deaths - Acute hepatitis - Sex: Both - Age: All Ages (Number)</th>\n",
       "      <th>Deaths - Alzheimer's disease and other dementias - Sex: Both - Age: All Ages (Number)</th>\n",
       "      <th>Deaths - Parkinson's disease - Sex: Both - Age: All Ages (Number)</th>\n",
       "    </tr>\n",
       "  </thead>\n",
       "  <tbody>\n",
       "    <tr>\n",
       "      <th>0</th>\n",
       "      <td>Afghanistan</td>\n",
       "      <td>AFG</td>\n",
       "      <td>2007</td>\n",
       "      <td>15</td>\n",
       "      <td>2933.0</td>\n",
       "      <td>15925.0</td>\n",
       "      <td>481.0</td>\n",
       "      <td>393.0</td>\n",
       "      <td>2127.0</td>\n",
       "      <td>3657.0</td>\n",
       "      <td>...</td>\n",
       "      <td>2439.0</td>\n",
       "      <td>1199.0</td>\n",
       "      <td>53962.0</td>\n",
       "      <td>4490.0</td>\n",
       "      <td>7222.0</td>\n",
       "      <td>3346.0</td>\n",
       "      <td>6458.0</td>\n",
       "      <td>3437.0</td>\n",
       "      <td>1402.0</td>\n",
       "      <td>450.0</td>\n",
       "    </tr>\n",
       "    <tr>\n",
       "      <th>1</th>\n",
       "      <td>Afghanistan</td>\n",
       "      <td>AFG</td>\n",
       "      <td>2008</td>\n",
       "      <td>17</td>\n",
       "      <td>2731.0</td>\n",
       "      <td>16148.0</td>\n",
       "      <td>462.0</td>\n",
       "      <td>255.0</td>\n",
       "      <td>1973.0</td>\n",
       "      <td>3785.0</td>\n",
       "      <td>...</td>\n",
       "      <td>2231.0</td>\n",
       "      <td>1092.0</td>\n",
       "      <td>54051.0</td>\n",
       "      <td>4534.0</td>\n",
       "      <td>7143.0</td>\n",
       "      <td>3316.0</td>\n",
       "      <td>6408.0</td>\n",
       "      <td>3005.0</td>\n",
       "      <td>1424.0</td>\n",
       "      <td>455.0</td>\n",
       "    </tr>\n",
       "    <tr>\n",
       "      <th>2</th>\n",
       "      <td>Afghanistan</td>\n",
       "      <td>AFG</td>\n",
       "      <td>2009</td>\n",
       "      <td>0</td>\n",
       "      <td>2460.0</td>\n",
       "      <td>16383.0</td>\n",
       "      <td>448.0</td>\n",
       "      <td>239.0</td>\n",
       "      <td>1852.0</td>\n",
       "      <td>3874.0</td>\n",
       "      <td>...</td>\n",
       "      <td>1998.0</td>\n",
       "      <td>1065.0</td>\n",
       "      <td>53964.0</td>\n",
       "      <td>4597.0</td>\n",
       "      <td>7045.0</td>\n",
       "      <td>3291.0</td>\n",
       "      <td>6358.0</td>\n",
       "      <td>2663.0</td>\n",
       "      <td>1449.0</td>\n",
       "      <td>460.0</td>\n",
       "    </tr>\n",
       "    <tr>\n",
       "      <th>3</th>\n",
       "      <td>Afghanistan</td>\n",
       "      <td>AFG</td>\n",
       "      <td>2011</td>\n",
       "      <td>2</td>\n",
       "      <td>2327.0</td>\n",
       "      <td>17094.0</td>\n",
       "      <td>448.0</td>\n",
       "      <td>390.0</td>\n",
       "      <td>1775.0</td>\n",
       "      <td>4170.0</td>\n",
       "      <td>...</td>\n",
       "      <td>1805.0</td>\n",
       "      <td>1525.0</td>\n",
       "      <td>54347.0</td>\n",
       "      <td>4785.0</td>\n",
       "      <td>6916.0</td>\n",
       "      <td>3318.0</td>\n",
       "      <td>6370.0</td>\n",
       "      <td>2365.0</td>\n",
       "      <td>1508.0</td>\n",
       "      <td>473.0</td>\n",
       "    </tr>\n",
       "    <tr>\n",
       "      <th>4</th>\n",
       "      <td>Afghanistan</td>\n",
       "      <td>AFG</td>\n",
       "      <td>2012</td>\n",
       "      <td>14</td>\n",
       "      <td>2254.0</td>\n",
       "      <td>17522.0</td>\n",
       "      <td>445.0</td>\n",
       "      <td>94.0</td>\n",
       "      <td>1716.0</td>\n",
       "      <td>4245.0</td>\n",
       "      <td>...</td>\n",
       "      <td>1667.0</td>\n",
       "      <td>3521.0</td>\n",
       "      <td>54868.0</td>\n",
       "      <td>4846.0</td>\n",
       "      <td>6878.0</td>\n",
       "      <td>3353.0</td>\n",
       "      <td>6398.0</td>\n",
       "      <td>2264.0</td>\n",
       "      <td>1544.0</td>\n",
       "      <td>482.0</td>\n",
       "    </tr>\n",
       "  </tbody>\n",
       "</table>\n",
       "<p>5 rows × 36 columns</p>\n",
       "</div>"
      ],
      "text/plain": [
       "        Entity Code  Year Number of executions (Amnesty International)  \\\n",
       "0  Afghanistan  AFG  2007                                           15   \n",
       "1  Afghanistan  AFG  2008                                           17   \n",
       "2  Afghanistan  AFG  2009                                            0   \n",
       "3  Afghanistan  AFG  2011                                            2   \n",
       "4  Afghanistan  AFG  2012                                           14   \n",
       "\n",
       "   Deaths - Meningitis - Sex: Both - Age: All Ages (Number)  \\\n",
       "0                                             2933.0          \n",
       "1                                             2731.0          \n",
       "2                                             2460.0          \n",
       "3                                             2327.0          \n",
       "4                                             2254.0          \n",
       "\n",
       "   Deaths - Neoplasms - Sex: Both - Age: All Ages (Number)  \\\n",
       "0                                            15925.0         \n",
       "1                                            16148.0         \n",
       "2                                            16383.0         \n",
       "3                                            17094.0         \n",
       "4                                            17522.0         \n",
       "\n",
       "   Deaths - Fire, heat, and hot substances - Sex: Both - Age: All Ages (Number)  \\\n",
       "0                                              481.0                              \n",
       "1                                              462.0                              \n",
       "2                                              448.0                              \n",
       "3                                              448.0                              \n",
       "4                                              445.0                              \n",
       "\n",
       "   Deaths - Malaria - Sex: Both - Age: All Ages (Number)  \\\n",
       "0                                              393.0       \n",
       "1                                              255.0       \n",
       "2                                              239.0       \n",
       "3                                              390.0       \n",
       "4                                               94.0       \n",
       "\n",
       "   Deaths - Drowning - Sex: Both - Age: All Ages (Number)  \\\n",
       "0                                             2127.0        \n",
       "1                                             1973.0        \n",
       "2                                             1852.0        \n",
       "3                                             1775.0        \n",
       "4                                             1716.0        \n",
       "\n",
       "   Deaths - Interpersonal violence - Sex: Both - Age: All Ages (Number)  ...  \\\n",
       "0                                             3657.0                     ...   \n",
       "1                                             3785.0                     ...   \n",
       "2                                             3874.0                     ...   \n",
       "3                                             4170.0                     ...   \n",
       "4                                             4245.0                     ...   \n",
       "\n",
       "   Deaths - Protein-energy malnutrition - Sex: Both - Age: All Ages (Number)  \\\n",
       "0                                             2439.0                           \n",
       "1                                             2231.0                           \n",
       "2                                             1998.0                           \n",
       "3                                             1805.0                           \n",
       "4                                             1667.0                           \n",
       "\n",
       "   Terrorism (deaths)  \\\n",
       "0              1199.0   \n",
       "1              1092.0   \n",
       "2              1065.0   \n",
       "3              1525.0   \n",
       "4              3521.0   \n",
       "\n",
       "   Deaths - Cardiovascular diseases - Sex: Both - Age: All Ages (Number)  \\\n",
       "0                                            53962.0                       \n",
       "1                                            54051.0                       \n",
       "2                                            53964.0                       \n",
       "3                                            54347.0                       \n",
       "4                                            54868.0                       \n",
       "\n",
       "   Deaths - Chronic kidney disease - Sex: Both - Age: All Ages (Number)  \\\n",
       "0                                             4490.0                      \n",
       "1                                             4534.0                      \n",
       "2                                             4597.0                      \n",
       "3                                             4785.0                      \n",
       "4                                             4846.0                      \n",
       "\n",
       "   Deaths - Chronic respiratory diseases - Sex: Both - Age: All Ages (Number)  \\\n",
       "0                                             7222.0                            \n",
       "1                                             7143.0                            \n",
       "2                                             7045.0                            \n",
       "3                                             6916.0                            \n",
       "4                                             6878.0                            \n",
       "\n",
       "   Deaths - Cirrhosis and other chronic liver diseases - Sex: Both - Age: All Ages (Number)  \\\n",
       "0                                             3346.0                                          \n",
       "1                                             3316.0                                          \n",
       "2                                             3291.0                                          \n",
       "3                                             3318.0                                          \n",
       "4                                             3353.0                                          \n",
       "\n",
       "   Deaths - Digestive diseases - Sex: Both - Age: All Ages (Number)  \\\n",
       "0                                             6458.0                  \n",
       "1                                             6408.0                  \n",
       "2                                             6358.0                  \n",
       "3                                             6370.0                  \n",
       "4                                             6398.0                  \n",
       "\n",
       "   Deaths - Acute hepatitis - Sex: Both - Age: All Ages (Number)  \\\n",
       "0                                             3437.0               \n",
       "1                                             3005.0               \n",
       "2                                             2663.0               \n",
       "3                                             2365.0               \n",
       "4                                             2264.0               \n",
       "\n",
       "   Deaths - Alzheimer's disease and other dementias - Sex: Both - Age: All Ages (Number)  \\\n",
       "0                                             1402.0                                       \n",
       "1                                             1424.0                                       \n",
       "2                                             1449.0                                       \n",
       "3                                             1508.0                                       \n",
       "4                                             1544.0                                       \n",
       "\n",
       "   Deaths - Parkinson's disease - Sex: Both - Age: All Ages (Number)  \n",
       "0                                              450.0                  \n",
       "1                                              455.0                  \n",
       "2                                              460.0                  \n",
       "3                                              473.0                  \n",
       "4                                              482.0                  \n",
       "\n",
       "[5 rows x 36 columns]"
      ]
     },
     "execution_count": 6,
     "metadata": {},
     "output_type": "execute_result"
    }
   ],
   "source": [
    "data.head()"
   ]
  },
  {
   "cell_type": "code",
   "execution_count": 7,
   "id": "2e360ed1",
   "metadata": {},
   "outputs": [
    {
     "name": "stdout",
     "output_type": "stream",
     "text": [
      "Всего строк: 8254\n"
     ]
    }
   ],
   "source": [
    "total_count = data.shape[0]\n",
    "print('Всего строк: {}'.format(total_count))"
   ]
  },
  {
   "cell_type": "markdown",
   "id": "b7294ff1",
   "metadata": {},
   "source": [
    "# Обработка пропусков данных"
   ]
  },
  {
   "cell_type": "markdown",
   "id": "6ca299a4",
   "metadata": {},
   "source": [
    "# Удаление колонок с пустыми значениями"
   ]
  },
  {
   "cell_type": "code",
   "execution_count": 8,
   "id": "b19c08d6",
   "metadata": {},
   "outputs": [
    {
     "data": {
      "text/plain": [
       "((8254, 36), (8254, 2))"
      ]
     },
     "execution_count": 8,
     "metadata": {},
     "output_type": "execute_result"
    }
   ],
   "source": [
    "data_new_1 = data.dropna(axis=1, how='any')\n",
    "(data.shape, data_new_1.shape)"
   ]
  },
  {
   "cell_type": "markdown",
   "id": "6a95ca22",
   "metadata": {},
   "source": [
    "# Удаление строк с пустыми значениями"
   ]
  },
  {
   "cell_type": "code",
   "execution_count": 9,
   "id": "5bafd621",
   "metadata": {},
   "outputs": [
    {
     "data": {
      "text/plain": [
       "((8254, 36), (176, 36))"
      ]
     },
     "execution_count": 9,
     "metadata": {},
     "output_type": "execute_result"
    }
   ],
   "source": [
    "data_new_2 = data.dropna(axis=0, how='any')\n",
    "(data.shape, data_new_2.shape)"
   ]
  },
  {
   "cell_type": "markdown",
   "id": "82319fdd",
   "metadata": {},
   "source": [
    "# Заполнение пропусков нулями"
   ]
  },
  {
   "cell_type": "code",
   "execution_count": 10,
   "id": "ea350e74",
   "metadata": {},
   "outputs": [
    {
     "data": {
      "text/html": [
       "<div>\n",
       "<style scoped>\n",
       "    .dataframe tbody tr th:only-of-type {\n",
       "        vertical-align: middle;\n",
       "    }\n",
       "\n",
       "    .dataframe tbody tr th {\n",
       "        vertical-align: top;\n",
       "    }\n",
       "\n",
       "    .dataframe thead th {\n",
       "        text-align: right;\n",
       "    }\n",
       "</style>\n",
       "<table border=\"1\" class=\"dataframe\">\n",
       "  <thead>\n",
       "    <tr style=\"text-align: right;\">\n",
       "      <th></th>\n",
       "      <th>Entity</th>\n",
       "      <th>Code</th>\n",
       "      <th>Year</th>\n",
       "      <th>Number of executions (Amnesty International)</th>\n",
       "      <th>Deaths - Meningitis - Sex: Both - Age: All Ages (Number)</th>\n",
       "      <th>Deaths - Neoplasms - Sex: Both - Age: All Ages (Number)</th>\n",
       "      <th>Deaths - Fire, heat, and hot substances - Sex: Both - Age: All Ages (Number)</th>\n",
       "      <th>Deaths - Malaria - Sex: Both - Age: All Ages (Number)</th>\n",
       "      <th>Deaths - Drowning - Sex: Both - Age: All Ages (Number)</th>\n",
       "      <th>Deaths - Interpersonal violence - Sex: Both - Age: All Ages (Number)</th>\n",
       "      <th>...</th>\n",
       "      <th>Deaths - Protein-energy malnutrition - Sex: Both - Age: All Ages (Number)</th>\n",
       "      <th>Terrorism (deaths)</th>\n",
       "      <th>Deaths - Cardiovascular diseases - Sex: Both - Age: All Ages (Number)</th>\n",
       "      <th>Deaths - Chronic kidney disease - Sex: Both - Age: All Ages (Number)</th>\n",
       "      <th>Deaths - Chronic respiratory diseases - Sex: Both - Age: All Ages (Number)</th>\n",
       "      <th>Deaths - Cirrhosis and other chronic liver diseases - Sex: Both - Age: All Ages (Number)</th>\n",
       "      <th>Deaths - Digestive diseases - Sex: Both - Age: All Ages (Number)</th>\n",
       "      <th>Deaths - Acute hepatitis - Sex: Both - Age: All Ages (Number)</th>\n",
       "      <th>Deaths - Alzheimer's disease and other dementias - Sex: Both - Age: All Ages (Number)</th>\n",
       "      <th>Deaths - Parkinson's disease - Sex: Both - Age: All Ages (Number)</th>\n",
       "    </tr>\n",
       "  </thead>\n",
       "  <tbody>\n",
       "    <tr>\n",
       "      <th>0</th>\n",
       "      <td>Afghanistan</td>\n",
       "      <td>AFG</td>\n",
       "      <td>2007</td>\n",
       "      <td>15</td>\n",
       "      <td>2933.0</td>\n",
       "      <td>15925.0</td>\n",
       "      <td>481.0</td>\n",
       "      <td>393.0</td>\n",
       "      <td>2127.0</td>\n",
       "      <td>3657.0</td>\n",
       "      <td>...</td>\n",
       "      <td>2439.0</td>\n",
       "      <td>1199.0</td>\n",
       "      <td>53962.0</td>\n",
       "      <td>4490.0</td>\n",
       "      <td>7222.0</td>\n",
       "      <td>3346.0</td>\n",
       "      <td>6458.0</td>\n",
       "      <td>3437.0</td>\n",
       "      <td>1402.0</td>\n",
       "      <td>450.0</td>\n",
       "    </tr>\n",
       "    <tr>\n",
       "      <th>1</th>\n",
       "      <td>Afghanistan</td>\n",
       "      <td>AFG</td>\n",
       "      <td>2008</td>\n",
       "      <td>17</td>\n",
       "      <td>2731.0</td>\n",
       "      <td>16148.0</td>\n",
       "      <td>462.0</td>\n",
       "      <td>255.0</td>\n",
       "      <td>1973.0</td>\n",
       "      <td>3785.0</td>\n",
       "      <td>...</td>\n",
       "      <td>2231.0</td>\n",
       "      <td>1092.0</td>\n",
       "      <td>54051.0</td>\n",
       "      <td>4534.0</td>\n",
       "      <td>7143.0</td>\n",
       "      <td>3316.0</td>\n",
       "      <td>6408.0</td>\n",
       "      <td>3005.0</td>\n",
       "      <td>1424.0</td>\n",
       "      <td>455.0</td>\n",
       "    </tr>\n",
       "    <tr>\n",
       "      <th>2</th>\n",
       "      <td>Afghanistan</td>\n",
       "      <td>AFG</td>\n",
       "      <td>2009</td>\n",
       "      <td>0</td>\n",
       "      <td>2460.0</td>\n",
       "      <td>16383.0</td>\n",
       "      <td>448.0</td>\n",
       "      <td>239.0</td>\n",
       "      <td>1852.0</td>\n",
       "      <td>3874.0</td>\n",
       "      <td>...</td>\n",
       "      <td>1998.0</td>\n",
       "      <td>1065.0</td>\n",
       "      <td>53964.0</td>\n",
       "      <td>4597.0</td>\n",
       "      <td>7045.0</td>\n",
       "      <td>3291.0</td>\n",
       "      <td>6358.0</td>\n",
       "      <td>2663.0</td>\n",
       "      <td>1449.0</td>\n",
       "      <td>460.0</td>\n",
       "    </tr>\n",
       "    <tr>\n",
       "      <th>3</th>\n",
       "      <td>Afghanistan</td>\n",
       "      <td>AFG</td>\n",
       "      <td>2011</td>\n",
       "      <td>2</td>\n",
       "      <td>2327.0</td>\n",
       "      <td>17094.0</td>\n",
       "      <td>448.0</td>\n",
       "      <td>390.0</td>\n",
       "      <td>1775.0</td>\n",
       "      <td>4170.0</td>\n",
       "      <td>...</td>\n",
       "      <td>1805.0</td>\n",
       "      <td>1525.0</td>\n",
       "      <td>54347.0</td>\n",
       "      <td>4785.0</td>\n",
       "      <td>6916.0</td>\n",
       "      <td>3318.0</td>\n",
       "      <td>6370.0</td>\n",
       "      <td>2365.0</td>\n",
       "      <td>1508.0</td>\n",
       "      <td>473.0</td>\n",
       "    </tr>\n",
       "    <tr>\n",
       "      <th>4</th>\n",
       "      <td>Afghanistan</td>\n",
       "      <td>AFG</td>\n",
       "      <td>2012</td>\n",
       "      <td>14</td>\n",
       "      <td>2254.0</td>\n",
       "      <td>17522.0</td>\n",
       "      <td>445.0</td>\n",
       "      <td>94.0</td>\n",
       "      <td>1716.0</td>\n",
       "      <td>4245.0</td>\n",
       "      <td>...</td>\n",
       "      <td>1667.0</td>\n",
       "      <td>3521.0</td>\n",
       "      <td>54868.0</td>\n",
       "      <td>4846.0</td>\n",
       "      <td>6878.0</td>\n",
       "      <td>3353.0</td>\n",
       "      <td>6398.0</td>\n",
       "      <td>2264.0</td>\n",
       "      <td>1544.0</td>\n",
       "      <td>482.0</td>\n",
       "    </tr>\n",
       "  </tbody>\n",
       "</table>\n",
       "<p>5 rows × 36 columns</p>\n",
       "</div>"
      ],
      "text/plain": [
       "        Entity Code  Year Number of executions (Amnesty International)  \\\n",
       "0  Afghanistan  AFG  2007                                           15   \n",
       "1  Afghanistan  AFG  2008                                           17   \n",
       "2  Afghanistan  AFG  2009                                            0   \n",
       "3  Afghanistan  AFG  2011                                            2   \n",
       "4  Afghanistan  AFG  2012                                           14   \n",
       "\n",
       "   Deaths - Meningitis - Sex: Both - Age: All Ages (Number)  \\\n",
       "0                                             2933.0          \n",
       "1                                             2731.0          \n",
       "2                                             2460.0          \n",
       "3                                             2327.0          \n",
       "4                                             2254.0          \n",
       "\n",
       "   Deaths - Neoplasms - Sex: Both - Age: All Ages (Number)  \\\n",
       "0                                            15925.0         \n",
       "1                                            16148.0         \n",
       "2                                            16383.0         \n",
       "3                                            17094.0         \n",
       "4                                            17522.0         \n",
       "\n",
       "   Deaths - Fire, heat, and hot substances - Sex: Both - Age: All Ages (Number)  \\\n",
       "0                                              481.0                              \n",
       "1                                              462.0                              \n",
       "2                                              448.0                              \n",
       "3                                              448.0                              \n",
       "4                                              445.0                              \n",
       "\n",
       "   Deaths - Malaria - Sex: Both - Age: All Ages (Number)  \\\n",
       "0                                              393.0       \n",
       "1                                              255.0       \n",
       "2                                              239.0       \n",
       "3                                              390.0       \n",
       "4                                               94.0       \n",
       "\n",
       "   Deaths - Drowning - Sex: Both - Age: All Ages (Number)  \\\n",
       "0                                             2127.0        \n",
       "1                                             1973.0        \n",
       "2                                             1852.0        \n",
       "3                                             1775.0        \n",
       "4                                             1716.0        \n",
       "\n",
       "   Deaths - Interpersonal violence - Sex: Both - Age: All Ages (Number)  ...  \\\n",
       "0                                             3657.0                     ...   \n",
       "1                                             3785.0                     ...   \n",
       "2                                             3874.0                     ...   \n",
       "3                                             4170.0                     ...   \n",
       "4                                             4245.0                     ...   \n",
       "\n",
       "   Deaths - Protein-energy malnutrition - Sex: Both - Age: All Ages (Number)  \\\n",
       "0                                             2439.0                           \n",
       "1                                             2231.0                           \n",
       "2                                             1998.0                           \n",
       "3                                             1805.0                           \n",
       "4                                             1667.0                           \n",
       "\n",
       "   Terrorism (deaths)  \\\n",
       "0              1199.0   \n",
       "1              1092.0   \n",
       "2              1065.0   \n",
       "3              1525.0   \n",
       "4              3521.0   \n",
       "\n",
       "   Deaths - Cardiovascular diseases - Sex: Both - Age: All Ages (Number)  \\\n",
       "0                                            53962.0                       \n",
       "1                                            54051.0                       \n",
       "2                                            53964.0                       \n",
       "3                                            54347.0                       \n",
       "4                                            54868.0                       \n",
       "\n",
       "   Deaths - Chronic kidney disease - Sex: Both - Age: All Ages (Number)  \\\n",
       "0                                             4490.0                      \n",
       "1                                             4534.0                      \n",
       "2                                             4597.0                      \n",
       "3                                             4785.0                      \n",
       "4                                             4846.0                      \n",
       "\n",
       "   Deaths - Chronic respiratory diseases - Sex: Both - Age: All Ages (Number)  \\\n",
       "0                                             7222.0                            \n",
       "1                                             7143.0                            \n",
       "2                                             7045.0                            \n",
       "3                                             6916.0                            \n",
       "4                                             6878.0                            \n",
       "\n",
       "   Deaths - Cirrhosis and other chronic liver diseases - Sex: Both - Age: All Ages (Number)  \\\n",
       "0                                             3346.0                                          \n",
       "1                                             3316.0                                          \n",
       "2                                             3291.0                                          \n",
       "3                                             3318.0                                          \n",
       "4                                             3353.0                                          \n",
       "\n",
       "   Deaths - Digestive diseases - Sex: Both - Age: All Ages (Number)  \\\n",
       "0                                             6458.0                  \n",
       "1                                             6408.0                  \n",
       "2                                             6358.0                  \n",
       "3                                             6370.0                  \n",
       "4                                             6398.0                  \n",
       "\n",
       "   Deaths - Acute hepatitis - Sex: Both - Age: All Ages (Number)  \\\n",
       "0                                             3437.0               \n",
       "1                                             3005.0               \n",
       "2                                             2663.0               \n",
       "3                                             2365.0               \n",
       "4                                             2264.0               \n",
       "\n",
       "   Deaths - Alzheimer's disease and other dementias - Sex: Both - Age: All Ages (Number)  \\\n",
       "0                                             1402.0                                       \n",
       "1                                             1424.0                                       \n",
       "2                                             1449.0                                       \n",
       "3                                             1508.0                                       \n",
       "4                                             1544.0                                       \n",
       "\n",
       "   Deaths - Parkinson's disease - Sex: Both - Age: All Ages (Number)  \n",
       "0                                              450.0                  \n",
       "1                                              455.0                  \n",
       "2                                              460.0                  \n",
       "3                                              473.0                  \n",
       "4                                              482.0                  \n",
       "\n",
       "[5 rows x 36 columns]"
      ]
     },
     "execution_count": 10,
     "metadata": {},
     "output_type": "execute_result"
    }
   ],
   "source": [
    "data_new_3 = data.fillna(0)\n",
    "data_new_3.head()"
   ]
  },
  {
   "cell_type": "markdown",
   "id": "569a77a2",
   "metadata": {},
   "source": [
    "# \"Внедрение значений\" - импьютация (imputation)\n",
    "Обработка пропусков в числовых данных"
   ]
  },
  {
   "cell_type": "code",
   "execution_count": 11,
   "id": "0f0ca8dc",
   "metadata": {},
   "outputs": [
    {
     "name": "stdout",
     "output_type": "stream",
     "text": [
      "Колонка Deaths - Meningitis - Sex: Both - Age: All Ages (Number). Тип данных float64. Количество пустых значений 244, 2.96%.\n",
      "Колонка Deaths - Neoplasms - Sex: Both - Age: All Ages (Number). Тип данных float64. Количество пустых значений 244, 2.96%.\n",
      "Колонка Deaths - Fire, heat, and hot substances - Sex: Both - Age: All Ages (Number). Тип данных float64. Количество пустых значений 244, 2.96%.\n",
      "Колонка Deaths - Malaria - Sex: Both - Age: All Ages (Number). Тип данных float64. Количество пустых значений 244, 2.96%.\n",
      "Колонка Deaths - Drowning - Sex: Both - Age: All Ages (Number). Тип данных float64. Количество пустых значений 244, 2.96%.\n",
      "Колонка Deaths - Interpersonal violence - Sex: Both - Age: All Ages (Number). Тип данных float64. Количество пустых значений 244, 2.96%.\n",
      "Колонка Deaths - HIV/AIDS - Sex: Both - Age: All Ages (Number). Тип данных float64. Количество пустых значений 244, 2.96%.\n",
      "Колонка Deaths - Drug use disorders - Sex: Both - Age: All Ages (Number). Тип данных float64. Количество пустых значений 244, 2.96%.\n",
      "Колонка Deaths - Tuberculosis - Sex: Both - Age: All Ages (Number). Тип данных float64. Количество пустых значений 244, 2.96%.\n",
      "Колонка Deaths - Road injuries - Sex: Both - Age: All Ages (Number). Тип данных float64. Количество пустых значений 244, 2.96%.\n",
      "Колонка Deaths - Maternal disorders - Sex: Both - Age: All Ages (Number). Тип данных float64. Количество пустых значений 244, 2.96%.\n",
      "Колонка Deaths - Lower respiratory infections - Sex: Both - Age: All Ages (Number). Тип данных float64. Количество пустых значений 244, 2.96%.\n",
      "Колонка Deaths - Neonatal disorders - Sex: Both - Age: All Ages (Number). Тип данных float64. Количество пустых значений 244, 2.96%.\n",
      "Колонка Deaths - Alcohol use disorders - Sex: Both - Age: All Ages (Number). Тип данных float64. Количество пустых значений 244, 2.96%.\n",
      "Колонка Deaths - Exposure to forces of nature - Sex: Both - Age: All Ages (Number). Тип данных float64. Количество пустых значений 244, 2.96%.\n",
      "Колонка Deaths - Diarrheal diseases - Sex: Both - Age: All Ages (Number). Тип данных float64. Количество пустых значений 244, 2.96%.\n",
      "Колонка Deaths - Environmental heat and cold exposure - Sex: Both - Age: All Ages (Number). Тип данных float64. Количество пустых значений 244, 2.96%.\n",
      "Колонка Deaths - Nutritional deficiencies - Sex: Both - Age: All Ages (Number). Тип данных float64. Количество пустых значений 244, 2.96%.\n",
      "Колонка Deaths - Self-harm - Sex: Both - Age: All Ages (Number). Тип данных float64. Количество пустых значений 244, 2.96%.\n",
      "Колонка Deaths - Conflict and terrorism - Sex: Both - Age: All Ages (Number). Тип данных float64. Количество пустых значений 244, 2.96%.\n",
      "Колонка Deaths - Diabetes mellitus - Sex: Both - Age: All Ages (Number). Тип данных float64. Количество пустых значений 244, 2.96%.\n",
      "Колонка Deaths - Poisonings - Sex: Both - Age: All Ages (Number). Тип данных float64. Количество пустых значений 244, 2.96%.\n",
      "Колонка Deaths - Protein-energy malnutrition - Sex: Both - Age: All Ages (Number). Тип данных float64. Количество пустых значений 244, 2.96%.\n",
      "Колонка Terrorism (deaths). Тип данных float64. Количество пустых значений 5363, 64.97%.\n",
      "Колонка Deaths - Cardiovascular diseases - Sex: Both - Age: All Ages (Number). Тип данных float64. Количество пустых значений 244, 2.96%.\n",
      "Колонка Deaths - Chronic kidney disease - Sex: Both - Age: All Ages (Number). Тип данных float64. Количество пустых значений 244, 2.96%.\n",
      "Колонка Deaths - Chronic respiratory diseases - Sex: Both - Age: All Ages (Number). Тип данных float64. Количество пустых значений 244, 2.96%.\n",
      "Колонка Deaths - Cirrhosis and other chronic liver diseases - Sex: Both - Age: All Ages (Number). Тип данных float64. Количество пустых значений 244, 2.96%.\n",
      "Колонка Deaths - Digestive diseases - Sex: Both - Age: All Ages (Number). Тип данных float64. Количество пустых значений 244, 2.96%.\n",
      "Колонка Deaths - Acute hepatitis - Sex: Both - Age: All Ages (Number). Тип данных float64. Количество пустых значений 244, 2.96%.\n",
      "Колонка Deaths - Alzheimer's disease and other dementias - Sex: Both - Age: All Ages (Number). Тип данных float64. Количество пустых значений 244, 2.96%.\n",
      "Колонка Deaths - Parkinson's disease - Sex: Both - Age: All Ages (Number). Тип данных float64. Количество пустых значений 244, 2.96%.\n"
     ]
    }
   ],
   "source": [
    "# Выберем числовые колонки с пропущенными значениями\n",
    "# Цикл по колонкам датасета\n",
    "num_cols = []\n",
    "for col in data.columns:\n",
    "    # Количество пустых значений \n",
    "    temp_null_count = data[data[col].isnull()].shape[0]\n",
    "    dt = str(data[col].dtype)\n",
    "    if temp_null_count>0 and (dt=='float64' or dt=='int64'):\n",
    "        num_cols.append(col)\n",
    "        temp_perc = round((temp_null_count / total_count) * 100.0, 2)\n",
    "        print('Колонка {}. Тип данных {}. Количество пустых значений {}, {}%.'.format(col, dt, temp_null_count, temp_perc))"
   ]
  },
  {
   "cell_type": "code",
   "execution_count": 12,
   "id": "7df3836d",
   "metadata": {},
   "outputs": [
    {
     "data": {
      "text/html": [
       "<div>\n",
       "<style scoped>\n",
       "    .dataframe tbody tr th:only-of-type {\n",
       "        vertical-align: middle;\n",
       "    }\n",
       "\n",
       "    .dataframe tbody tr th {\n",
       "        vertical-align: top;\n",
       "    }\n",
       "\n",
       "    .dataframe thead th {\n",
       "        text-align: right;\n",
       "    }\n",
       "</style>\n",
       "<table border=\"1\" class=\"dataframe\">\n",
       "  <thead>\n",
       "    <tr style=\"text-align: right;\">\n",
       "      <th></th>\n",
       "      <th>Deaths - Meningitis - Sex: Both - Age: All Ages (Number)</th>\n",
       "      <th>Deaths - Neoplasms - Sex: Both - Age: All Ages (Number)</th>\n",
       "      <th>Deaths - Fire, heat, and hot substances - Sex: Both - Age: All Ages (Number)</th>\n",
       "      <th>Deaths - Malaria - Sex: Both - Age: All Ages (Number)</th>\n",
       "      <th>Deaths - Drowning - Sex: Both - Age: All Ages (Number)</th>\n",
       "      <th>Deaths - Interpersonal violence - Sex: Both - Age: All Ages (Number)</th>\n",
       "      <th>Deaths - HIV/AIDS - Sex: Both - Age: All Ages (Number)</th>\n",
       "      <th>Deaths - Drug use disorders - Sex: Both - Age: All Ages (Number)</th>\n",
       "      <th>Deaths - Tuberculosis - Sex: Both - Age: All Ages (Number)</th>\n",
       "      <th>Deaths - Road injuries - Sex: Both - Age: All Ages (Number)</th>\n",
       "      <th>...</th>\n",
       "      <th>Deaths - Protein-energy malnutrition - Sex: Both - Age: All Ages (Number)</th>\n",
       "      <th>Terrorism (deaths)</th>\n",
       "      <th>Deaths - Cardiovascular diseases - Sex: Both - Age: All Ages (Number)</th>\n",
       "      <th>Deaths - Chronic kidney disease - Sex: Both - Age: All Ages (Number)</th>\n",
       "      <th>Deaths - Chronic respiratory diseases - Sex: Both - Age: All Ages (Number)</th>\n",
       "      <th>Deaths - Cirrhosis and other chronic liver diseases - Sex: Both - Age: All Ages (Number)</th>\n",
       "      <th>Deaths - Digestive diseases - Sex: Both - Age: All Ages (Number)</th>\n",
       "      <th>Deaths - Acute hepatitis - Sex: Both - Age: All Ages (Number)</th>\n",
       "      <th>Deaths - Alzheimer's disease and other dementias - Sex: Both - Age: All Ages (Number)</th>\n",
       "      <th>Deaths - Parkinson's disease - Sex: Both - Age: All Ages (Number)</th>\n",
       "    </tr>\n",
       "  </thead>\n",
       "  <tbody>\n",
       "    <tr>\n",
       "      <th>0</th>\n",
       "      <td>2933.0</td>\n",
       "      <td>15925.0</td>\n",
       "      <td>481.0</td>\n",
       "      <td>393.0</td>\n",
       "      <td>2127.0</td>\n",
       "      <td>3657.0</td>\n",
       "      <td>148.0</td>\n",
       "      <td>252.0</td>\n",
       "      <td>4995.0</td>\n",
       "      <td>7425.0</td>\n",
       "      <td>...</td>\n",
       "      <td>2439.0</td>\n",
       "      <td>1199.0</td>\n",
       "      <td>53962.0</td>\n",
       "      <td>4490.0</td>\n",
       "      <td>7222.0</td>\n",
       "      <td>3346.0</td>\n",
       "      <td>6458.0</td>\n",
       "      <td>3437.0</td>\n",
       "      <td>1402.0</td>\n",
       "      <td>450.0</td>\n",
       "    </tr>\n",
       "    <tr>\n",
       "      <th>1</th>\n",
       "      <td>2731.0</td>\n",
       "      <td>16148.0</td>\n",
       "      <td>462.0</td>\n",
       "      <td>255.0</td>\n",
       "      <td>1973.0</td>\n",
       "      <td>3785.0</td>\n",
       "      <td>157.0</td>\n",
       "      <td>261.0</td>\n",
       "      <td>4790.0</td>\n",
       "      <td>7355.0</td>\n",
       "      <td>...</td>\n",
       "      <td>2231.0</td>\n",
       "      <td>1092.0</td>\n",
       "      <td>54051.0</td>\n",
       "      <td>4534.0</td>\n",
       "      <td>7143.0</td>\n",
       "      <td>3316.0</td>\n",
       "      <td>6408.0</td>\n",
       "      <td>3005.0</td>\n",
       "      <td>1424.0</td>\n",
       "      <td>455.0</td>\n",
       "    </tr>\n",
       "    <tr>\n",
       "      <th>2</th>\n",
       "      <td>2460.0</td>\n",
       "      <td>16383.0</td>\n",
       "      <td>448.0</td>\n",
       "      <td>239.0</td>\n",
       "      <td>1852.0</td>\n",
       "      <td>3874.0</td>\n",
       "      <td>167.0</td>\n",
       "      <td>270.0</td>\n",
       "      <td>4579.0</td>\n",
       "      <td>7290.0</td>\n",
       "      <td>...</td>\n",
       "      <td>1998.0</td>\n",
       "      <td>1065.0</td>\n",
       "      <td>53964.0</td>\n",
       "      <td>4597.0</td>\n",
       "      <td>7045.0</td>\n",
       "      <td>3291.0</td>\n",
       "      <td>6358.0</td>\n",
       "      <td>2663.0</td>\n",
       "      <td>1449.0</td>\n",
       "      <td>460.0</td>\n",
       "    </tr>\n",
       "    <tr>\n",
       "      <th>3</th>\n",
       "      <td>2327.0</td>\n",
       "      <td>17094.0</td>\n",
       "      <td>448.0</td>\n",
       "      <td>390.0</td>\n",
       "      <td>1775.0</td>\n",
       "      <td>4170.0</td>\n",
       "      <td>184.0</td>\n",
       "      <td>292.0</td>\n",
       "      <td>4259.0</td>\n",
       "      <td>7432.0</td>\n",
       "      <td>...</td>\n",
       "      <td>1805.0</td>\n",
       "      <td>1525.0</td>\n",
       "      <td>54347.0</td>\n",
       "      <td>4785.0</td>\n",
       "      <td>6916.0</td>\n",
       "      <td>3318.0</td>\n",
       "      <td>6370.0</td>\n",
       "      <td>2365.0</td>\n",
       "      <td>1508.0</td>\n",
       "      <td>473.0</td>\n",
       "    </tr>\n",
       "    <tr>\n",
       "      <th>4</th>\n",
       "      <td>2254.0</td>\n",
       "      <td>17522.0</td>\n",
       "      <td>445.0</td>\n",
       "      <td>94.0</td>\n",
       "      <td>1716.0</td>\n",
       "      <td>4245.0</td>\n",
       "      <td>191.0</td>\n",
       "      <td>305.0</td>\n",
       "      <td>4122.0</td>\n",
       "      <td>7494.0</td>\n",
       "      <td>...</td>\n",
       "      <td>1667.0</td>\n",
       "      <td>3521.0</td>\n",
       "      <td>54868.0</td>\n",
       "      <td>4846.0</td>\n",
       "      <td>6878.0</td>\n",
       "      <td>3353.0</td>\n",
       "      <td>6398.0</td>\n",
       "      <td>2264.0</td>\n",
       "      <td>1544.0</td>\n",
       "      <td>482.0</td>\n",
       "    </tr>\n",
       "    <tr>\n",
       "      <th>...</th>\n",
       "      <td>...</td>\n",
       "      <td>...</td>\n",
       "      <td>...</td>\n",
       "      <td>...</td>\n",
       "      <td>...</td>\n",
       "      <td>...</td>\n",
       "      <td>...</td>\n",
       "      <td>...</td>\n",
       "      <td>...</td>\n",
       "      <td>...</td>\n",
       "      <td>...</td>\n",
       "      <td>...</td>\n",
       "      <td>...</td>\n",
       "      <td>...</td>\n",
       "      <td>...</td>\n",
       "      <td>...</td>\n",
       "      <td>...</td>\n",
       "      <td>...</td>\n",
       "      <td>...</td>\n",
       "      <td>...</td>\n",
       "      <td>...</td>\n",
       "    </tr>\n",
       "    <tr>\n",
       "      <th>8249</th>\n",
       "      <td>1439.0</td>\n",
       "      <td>11161.0</td>\n",
       "      <td>632.0</td>\n",
       "      <td>2518.0</td>\n",
       "      <td>770.0</td>\n",
       "      <td>1302.0</td>\n",
       "      <td>29162.0</td>\n",
       "      <td>104.0</td>\n",
       "      <td>11214.0</td>\n",
       "      <td>2373.0</td>\n",
       "      <td>...</td>\n",
       "      <td>2990.0</td>\n",
       "      <td>NaN</td>\n",
       "      <td>16649.0</td>\n",
       "      <td>2108.0</td>\n",
       "      <td>2751.0</td>\n",
       "      <td>1956.0</td>\n",
       "      <td>4202.0</td>\n",
       "      <td>146.0</td>\n",
       "      <td>754.0</td>\n",
       "      <td>215.0</td>\n",
       "    </tr>\n",
       "    <tr>\n",
       "      <th>8250</th>\n",
       "      <td>1457.0</td>\n",
       "      <td>11465.0</td>\n",
       "      <td>648.0</td>\n",
       "      <td>2050.0</td>\n",
       "      <td>801.0</td>\n",
       "      <td>1342.0</td>\n",
       "      <td>27141.0</td>\n",
       "      <td>110.0</td>\n",
       "      <td>10998.0</td>\n",
       "      <td>2436.0</td>\n",
       "      <td>...</td>\n",
       "      <td>3027.0</td>\n",
       "      <td>NaN</td>\n",
       "      <td>16937.0</td>\n",
       "      <td>2160.0</td>\n",
       "      <td>2788.0</td>\n",
       "      <td>1962.0</td>\n",
       "      <td>4264.0</td>\n",
       "      <td>146.0</td>\n",
       "      <td>767.0</td>\n",
       "      <td>219.0</td>\n",
       "    </tr>\n",
       "    <tr>\n",
       "      <th>8251</th>\n",
       "      <td>1460.0</td>\n",
       "      <td>11744.0</td>\n",
       "      <td>654.0</td>\n",
       "      <td>2116.0</td>\n",
       "      <td>818.0</td>\n",
       "      <td>1363.0</td>\n",
       "      <td>24846.0</td>\n",
       "      <td>115.0</td>\n",
       "      <td>10762.0</td>\n",
       "      <td>2473.0</td>\n",
       "      <td>...</td>\n",
       "      <td>2962.0</td>\n",
       "      <td>0.0</td>\n",
       "      <td>17187.0</td>\n",
       "      <td>2196.0</td>\n",
       "      <td>2818.0</td>\n",
       "      <td>2007.0</td>\n",
       "      <td>4342.0</td>\n",
       "      <td>144.0</td>\n",
       "      <td>781.0</td>\n",
       "      <td>223.0</td>\n",
       "    </tr>\n",
       "    <tr>\n",
       "      <th>8252</th>\n",
       "      <td>1450.0</td>\n",
       "      <td>12038.0</td>\n",
       "      <td>657.0</td>\n",
       "      <td>2088.0</td>\n",
       "      <td>825.0</td>\n",
       "      <td>1396.0</td>\n",
       "      <td>22106.0</td>\n",
       "      <td>121.0</td>\n",
       "      <td>10545.0</td>\n",
       "      <td>2509.0</td>\n",
       "      <td>...</td>\n",
       "      <td>2890.0</td>\n",
       "      <td>NaN</td>\n",
       "      <td>17460.0</td>\n",
       "      <td>2240.0</td>\n",
       "      <td>2849.0</td>\n",
       "      <td>2030.0</td>\n",
       "      <td>4377.0</td>\n",
       "      <td>139.0</td>\n",
       "      <td>795.0</td>\n",
       "      <td>227.0</td>\n",
       "    </tr>\n",
       "    <tr>\n",
       "      <th>8253</th>\n",
       "      <td>1450.0</td>\n",
       "      <td>12353.0</td>\n",
       "      <td>662.0</td>\n",
       "      <td>2068.0</td>\n",
       "      <td>827.0</td>\n",
       "      <td>1434.0</td>\n",
       "      <td>20722.0</td>\n",
       "      <td>127.0</td>\n",
       "      <td>10465.0</td>\n",
       "      <td>2554.0</td>\n",
       "      <td>...</td>\n",
       "      <td>2855.0</td>\n",
       "      <td>NaN</td>\n",
       "      <td>17810.0</td>\n",
       "      <td>2292.0</td>\n",
       "      <td>2891.0</td>\n",
       "      <td>2065.0</td>\n",
       "      <td>4437.0</td>\n",
       "      <td>136.0</td>\n",
       "      <td>812.0</td>\n",
       "      <td>232.0</td>\n",
       "    </tr>\n",
       "  </tbody>\n",
       "</table>\n",
       "<p>8254 rows × 32 columns</p>\n",
       "</div>"
      ],
      "text/plain": [
       "      Deaths - Meningitis - Sex: Both - Age: All Ages (Number)  \\\n",
       "0                                                2933.0          \n",
       "1                                                2731.0          \n",
       "2                                                2460.0          \n",
       "3                                                2327.0          \n",
       "4                                                2254.0          \n",
       "...                                                 ...          \n",
       "8249                                             1439.0          \n",
       "8250                                             1457.0          \n",
       "8251                                             1460.0          \n",
       "8252                                             1450.0          \n",
       "8253                                             1450.0          \n",
       "\n",
       "      Deaths - Neoplasms - Sex: Both - Age: All Ages (Number)  \\\n",
       "0                                               15925.0         \n",
       "1                                               16148.0         \n",
       "2                                               16383.0         \n",
       "3                                               17094.0         \n",
       "4                                               17522.0         \n",
       "...                                                 ...         \n",
       "8249                                            11161.0         \n",
       "8250                                            11465.0         \n",
       "8251                                            11744.0         \n",
       "8252                                            12038.0         \n",
       "8253                                            12353.0         \n",
       "\n",
       "      Deaths - Fire, heat, and hot substances - Sex: Both - Age: All Ages (Number)  \\\n",
       "0                                                 481.0                              \n",
       "1                                                 462.0                              \n",
       "2                                                 448.0                              \n",
       "3                                                 448.0                              \n",
       "4                                                 445.0                              \n",
       "...                                                 ...                              \n",
       "8249                                              632.0                              \n",
       "8250                                              648.0                              \n",
       "8251                                              654.0                              \n",
       "8252                                              657.0                              \n",
       "8253                                              662.0                              \n",
       "\n",
       "      Deaths - Malaria - Sex: Both - Age: All Ages (Number)  \\\n",
       "0                                                 393.0       \n",
       "1                                                 255.0       \n",
       "2                                                 239.0       \n",
       "3                                                 390.0       \n",
       "4                                                  94.0       \n",
       "...                                                 ...       \n",
       "8249                                             2518.0       \n",
       "8250                                             2050.0       \n",
       "8251                                             2116.0       \n",
       "8252                                             2088.0       \n",
       "8253                                             2068.0       \n",
       "\n",
       "      Deaths - Drowning - Sex: Both - Age: All Ages (Number)  \\\n",
       "0                                                2127.0        \n",
       "1                                                1973.0        \n",
       "2                                                1852.0        \n",
       "3                                                1775.0        \n",
       "4                                                1716.0        \n",
       "...                                                 ...        \n",
       "8249                                              770.0        \n",
       "8250                                              801.0        \n",
       "8251                                              818.0        \n",
       "8252                                              825.0        \n",
       "8253                                              827.0        \n",
       "\n",
       "      Deaths - Interpersonal violence - Sex: Both - Age: All Ages (Number)  \\\n",
       "0                                                3657.0                      \n",
       "1                                                3785.0                      \n",
       "2                                                3874.0                      \n",
       "3                                                4170.0                      \n",
       "4                                                4245.0                      \n",
       "...                                                 ...                      \n",
       "8249                                             1302.0                      \n",
       "8250                                             1342.0                      \n",
       "8251                                             1363.0                      \n",
       "8252                                             1396.0                      \n",
       "8253                                             1434.0                      \n",
       "\n",
       "      Deaths - HIV/AIDS - Sex: Both - Age: All Ages (Number)  \\\n",
       "0                                                 148.0        \n",
       "1                                                 157.0        \n",
       "2                                                 167.0        \n",
       "3                                                 184.0        \n",
       "4                                                 191.0        \n",
       "...                                                 ...        \n",
       "8249                                            29162.0        \n",
       "8250                                            27141.0        \n",
       "8251                                            24846.0        \n",
       "8252                                            22106.0        \n",
       "8253                                            20722.0        \n",
       "\n",
       "      Deaths - Drug use disorders - Sex: Both - Age: All Ages (Number)  \\\n",
       "0                                                 252.0                  \n",
       "1                                                 261.0                  \n",
       "2                                                 270.0                  \n",
       "3                                                 292.0                  \n",
       "4                                                 305.0                  \n",
       "...                                                 ...                  \n",
       "8249                                              104.0                  \n",
       "8250                                              110.0                  \n",
       "8251                                              115.0                  \n",
       "8252                                              121.0                  \n",
       "8253                                              127.0                  \n",
       "\n",
       "      Deaths - Tuberculosis - Sex: Both - Age: All Ages (Number)  \\\n",
       "0                                                4995.0            \n",
       "1                                                4790.0            \n",
       "2                                                4579.0            \n",
       "3                                                4259.0            \n",
       "4                                                4122.0            \n",
       "...                                                 ...            \n",
       "8249                                            11214.0            \n",
       "8250                                            10998.0            \n",
       "8251                                            10762.0            \n",
       "8252                                            10545.0            \n",
       "8253                                            10465.0            \n",
       "\n",
       "      Deaths - Road injuries - Sex: Both - Age: All Ages (Number)  ...  \\\n",
       "0                                                7425.0            ...   \n",
       "1                                                7355.0            ...   \n",
       "2                                                7290.0            ...   \n",
       "3                                                7432.0            ...   \n",
       "4                                                7494.0            ...   \n",
       "...                                                 ...            ...   \n",
       "8249                                             2373.0            ...   \n",
       "8250                                             2436.0            ...   \n",
       "8251                                             2473.0            ...   \n",
       "8252                                             2509.0            ...   \n",
       "8253                                             2554.0            ...   \n",
       "\n",
       "      Deaths - Protein-energy malnutrition - Sex: Both - Age: All Ages (Number)  \\\n",
       "0                                                2439.0                           \n",
       "1                                                2231.0                           \n",
       "2                                                1998.0                           \n",
       "3                                                1805.0                           \n",
       "4                                                1667.0                           \n",
       "...                                                 ...                           \n",
       "8249                                             2990.0                           \n",
       "8250                                             3027.0                           \n",
       "8251                                             2962.0                           \n",
       "8252                                             2890.0                           \n",
       "8253                                             2855.0                           \n",
       "\n",
       "      Terrorism (deaths)  \\\n",
       "0                 1199.0   \n",
       "1                 1092.0   \n",
       "2                 1065.0   \n",
       "3                 1525.0   \n",
       "4                 3521.0   \n",
       "...                  ...   \n",
       "8249                 NaN   \n",
       "8250                 NaN   \n",
       "8251                 0.0   \n",
       "8252                 NaN   \n",
       "8253                 NaN   \n",
       "\n",
       "      Deaths - Cardiovascular diseases - Sex: Both - Age: All Ages (Number)  \\\n",
       "0                                               53962.0                       \n",
       "1                                               54051.0                       \n",
       "2                                               53964.0                       \n",
       "3                                               54347.0                       \n",
       "4                                               54868.0                       \n",
       "...                                                 ...                       \n",
       "8249                                            16649.0                       \n",
       "8250                                            16937.0                       \n",
       "8251                                            17187.0                       \n",
       "8252                                            17460.0                       \n",
       "8253                                            17810.0                       \n",
       "\n",
       "      Deaths - Chronic kidney disease - Sex: Both - Age: All Ages (Number)  \\\n",
       "0                                                4490.0                      \n",
       "1                                                4534.0                      \n",
       "2                                                4597.0                      \n",
       "3                                                4785.0                      \n",
       "4                                                4846.0                      \n",
       "...                                                 ...                      \n",
       "8249                                             2108.0                      \n",
       "8250                                             2160.0                      \n",
       "8251                                             2196.0                      \n",
       "8252                                             2240.0                      \n",
       "8253                                             2292.0                      \n",
       "\n",
       "      Deaths - Chronic respiratory diseases - Sex: Both - Age: All Ages (Number)  \\\n",
       "0                                                7222.0                            \n",
       "1                                                7143.0                            \n",
       "2                                                7045.0                            \n",
       "3                                                6916.0                            \n",
       "4                                                6878.0                            \n",
       "...                                                 ...                            \n",
       "8249                                             2751.0                            \n",
       "8250                                             2788.0                            \n",
       "8251                                             2818.0                            \n",
       "8252                                             2849.0                            \n",
       "8253                                             2891.0                            \n",
       "\n",
       "      Deaths - Cirrhosis and other chronic liver diseases - Sex: Both - Age: All Ages (Number)  \\\n",
       "0                                                3346.0                                          \n",
       "1                                                3316.0                                          \n",
       "2                                                3291.0                                          \n",
       "3                                                3318.0                                          \n",
       "4                                                3353.0                                          \n",
       "...                                                 ...                                          \n",
       "8249                                             1956.0                                          \n",
       "8250                                             1962.0                                          \n",
       "8251                                             2007.0                                          \n",
       "8252                                             2030.0                                          \n",
       "8253                                             2065.0                                          \n",
       "\n",
       "      Deaths - Digestive diseases - Sex: Both - Age: All Ages (Number)  \\\n",
       "0                                                6458.0                  \n",
       "1                                                6408.0                  \n",
       "2                                                6358.0                  \n",
       "3                                                6370.0                  \n",
       "4                                                6398.0                  \n",
       "...                                                 ...                  \n",
       "8249                                             4202.0                  \n",
       "8250                                             4264.0                  \n",
       "8251                                             4342.0                  \n",
       "8252                                             4377.0                  \n",
       "8253                                             4437.0                  \n",
       "\n",
       "      Deaths - Acute hepatitis - Sex: Both - Age: All Ages (Number)  \\\n",
       "0                                                3437.0               \n",
       "1                                                3005.0               \n",
       "2                                                2663.0               \n",
       "3                                                2365.0               \n",
       "4                                                2264.0               \n",
       "...                                                 ...               \n",
       "8249                                              146.0               \n",
       "8250                                              146.0               \n",
       "8251                                              144.0               \n",
       "8252                                              139.0               \n",
       "8253                                              136.0               \n",
       "\n",
       "      Deaths - Alzheimer's disease and other dementias - Sex: Both - Age: All Ages (Number)  \\\n",
       "0                                                1402.0                                       \n",
       "1                                                1424.0                                       \n",
       "2                                                1449.0                                       \n",
       "3                                                1508.0                                       \n",
       "4                                                1544.0                                       \n",
       "...                                                 ...                                       \n",
       "8249                                              754.0                                       \n",
       "8250                                              767.0                                       \n",
       "8251                                              781.0                                       \n",
       "8252                                              795.0                                       \n",
       "8253                                              812.0                                       \n",
       "\n",
       "      Deaths - Parkinson's disease - Sex: Both - Age: All Ages (Number)  \n",
       "0                                                 450.0                  \n",
       "1                                                 455.0                  \n",
       "2                                                 460.0                  \n",
       "3                                                 473.0                  \n",
       "4                                                 482.0                  \n",
       "...                                                 ...                  \n",
       "8249                                              215.0                  \n",
       "8250                                              219.0                  \n",
       "8251                                              223.0                  \n",
       "8252                                              227.0                  \n",
       "8253                                              232.0                  \n",
       "\n",
       "[8254 rows x 32 columns]"
      ]
     },
     "execution_count": 12,
     "metadata": {},
     "output_type": "execute_result"
    }
   ],
   "source": [
    "# Фильтр по колонкам с пропущенными значениями\n",
    "data_num = data[num_cols]\n",
    "data_num"
   ]
  },
  {
   "cell_type": "code",
   "execution_count": 13,
   "id": "d8a36401",
   "metadata": {},
   "outputs": [
    {
     "data": {
      "image/png": "[encoded data removed]",
      "text/plain": [
       "<Figure size 432x288 with 1 Axes>"
      ]
     },
     "metadata": {},
     "output_type": "display_data"
    },
    {
     "data": {
      "image/png": "[encoded data removed]",
      "text/plain": [
       "<Figure size 432x288 with 1 Axes>"
      ]
     },
     "metadata": {},
     "output_type": "display_data"
    },
    {
     "data": {
      "image/png": "[encoded data removed]",
      "text/plain": [
       "<Figure size 432x288 with 1 Axes>"
      ]
     },
     "metadata": {},
     "output_type": "display_data"
    },
    {
     "data": {
      "image/png": "[encoded data removed]",
      "text/plain": [
       "<Figure size 432x288 with 1 Axes>"
      ]
     },
     "metadata": {},
     "output_type": "display_data"
    },
    {
     "data": {
      "image/png": "[encoded data removed]",
      "text/plain": [
       "<Figure size 432x288 with 1 Axes>"
      ]
     },
     "metadata": {},
     "output_type": "display_data"
    },
    {
     "data": {
      "image/png": "[encoded data removed]",
      "text/plain": [
       "<Figure size 432x288 with 1 Axes>"
      ]
     },
     "metadata": {},
     "output_type": "display_data"
    },
    {
     "data": {
      "image/png": "[encoded data removed]",
      "text/plain": [
       "<Figure size 432x288 with 1 Axes>"
      ]
     },
     "metadata": {},
     "output_type": "display_data"
    },
    {
     "data": {
      "image/png": "[encoded data removed]",
      "text/plain": [
       "<Figure size 432x288 with 1 Axes>"
      ]
     },
     "metadata": {},
     "output_type": "display_data"
    },
    {
     "data": {
      "image/png": "[encoded data removed]",
      "text/plain": [
       "<Figure size 432x288 with 1 Axes>"
      ]
     },
     "metadata": {},
     "output_type": "display_data"
    },
    {
     "data": {
      "image/png": "[encoded data removed]",
      "text/plain": [
       "<Figure size 432x288 with 1 Axes>"
      ]
     },
     "metadata": {},
     "output_type": "display_data"
    },
    {
     "data": {
      "image/png": "[encoded data removed]",
      "text/plain": [
       "<Figure size 432x288 with 1 Axes>"
      ]
     },
     "metadata": {},
     "output_type": "display_data"
    },
    {
     "data": {
      "image/png": "[encoded data removed]",
      "text/plain": [
       "<Figure size 432x288 with 1 Axes>"
      ]
     },
     "metadata": {},
     "output_type": "display_data"
    },
    {
     "data": {
      "image/png": "[encoded data removed]",
      "text/plain": [
       "<Figure size 432x288 with 1 Axes>"
      ]
     },
     "metadata": {},
     "output_type": "display_data"
    },
    {
     "data": {
      "image/png": "[encoded data removed]",
      "text/plain": [
       "<Figure size 432x288 with 1 Axes>"
      ]
     },
     "metadata": {},
     "output_type": "display_data"
    },
    {
     "data": {
      "image/png": "[encoded data removed]",
      "text/plain": [
       "<Figure size 432x288 with 1 Axes>"
      ]
     },
     "metadata": {},
     "output_type": "display_data"
    },
    {
     "data": {
      "image/png": "[encoded data removed]",
      "text/plain": [
       "<Figure size 432x288 with 1 Axes>"
      ]
     },
     "metadata": {},
     "output_type": "display_data"
    },
    {
     "data": {
      "image/png": "[encoded data removed]",
      "text/plain": [
       "<Figure size 432x288 with 1 Axes>"
      ]
     },
     "metadata": {},
     "output_type": "display_data"
    },
    {
     "data": {
      "image/png": "[encoded data removed]",
      "text/plain": [
       "<Figure size 432x288 with 1 Axes>"
      ]
     },
     "metadata": {},
     "output_type": "display_data"
    },
    {
     "data": {
      "image/png": "[encoded data removed]",
      "text/plain": [
       "<Figure size 432x288 with 1 Axes>"
      ]
     },
     "metadata": {},
     "output_type": "display_data"
    },
    {
     "data": {
      "image/png": "[encoded data removed]",
      "text/plain": [
       "<Figure size 432x288 with 1 Axes>"
      ]
     },
     "metadata": {},
     "output_type": "display_data"
    },
    {
     "data": {
      "image/png": "[encoded data removed]",
      "text/plain": [
       "<Figure size 432x288 with 1 Axes>"
      ]
     },
     "metadata": {},
     "output_type": "display_data"
    },
    {
     "data": {
      "image/png": "[encoded data removed]",
      "text/plain": [
       "<Figure size 432x288 with 1 Axes>"
      ]
     },
     "metadata": {},
     "output_type": "display_data"
    },
    {
     "data": {
      "image/png": "[encoded data removed]",
      "text/plain": [
       "<Figure size 432x288 with 1 Axes>"
      ]
     },
     "metadata": {},
     "output_type": "display_data"
    },
    {
     "data": {
      "image/png": "[encoded data removed]",
      "text/plain": [
       "<Figure size 432x288 with 1 Axes>"
      ]
     },
     "metadata": {},
     "output_type": "display_data"
    },
    {
     "data": {
      "image/png": "[encoded data removed]",
      "text/plain": [
       "<Figure size 432x288 with 1 Axes>"
      ]
     },
     "metadata": {},
     "output_type": "display_data"
    },
    {
     "data": {
      "image/png": "[encoded data removed]",
      "text/plain": [
       "<Figure size 432x288 with 1 Axes>"
      ]
     },
     "metadata": {},
     "output_type": "display_data"
    },
    {
     "data": {
      "image/png": "[encoded data removed]",
      "text/plain": [
       "<Figure size 432x288 with 1 Axes>"
      ]
     },
     "metadata": {},
     "output_type": "display_data"
    },
    {
     "data": {
      "image/png": "[encoded data removed]",
      "text/plain": [
       "<Figure size 432x288 with 1 Axes>"
      ]
     },
     "metadata": {},
     "output_type": "display_data"
    },
    {
     "data": {
      "image/png": "[encoded data removed]",
      "text/plain": [
       "<Figure size 432x288 with 1 Axes>"
      ]
     },
     "metadata": {},
     "output_type": "display_data"
    },
    {
     "data": {
      "image/png": "[encoded data removed]",
      "text/plain": [
       "<Figure size 432x288 with 1 Axes>"
      ]
     },
     "metadata": {},
     "output_type": "display_data"
    },
    {
     "data": {
      "image/png": "[encoded data removed]",
      "text/plain": [
       "<Figure size 432x288 with 1 Axes>"
      ]
     },
     "metadata": {},
     "output_type": "display_data"
    },
    {
     "data": {
      "image/png": "[encoded data removed]",
      "text/plain": [
       "<Figure size 432x288 with 1 Axes>"
      ]
     },
     "metadata": {},
     "output_type": "display_data"
    }
   ],
   "source": [
    "# Гистограмма по признакам\n",
    "for col in data_num:\n",
    "    plt.hist(data[col], 50)\n",
    "    plt.xlabel(col)\n",
    "    plt.show()"
   ]
  },
  {
   "cell_type": "markdown",
   "id": "5e0b6cc3",
   "metadata": {},
   "source": [
    "Будем использовать встроенные средства импьютации библиотеки scikit-learn - https://scikit-learn.org/stable/modules/impute.html"
   ]
  },
  {
   "cell_type": "code",
   "execution_count": 14,
   "id": "49a7649b",
   "metadata": {},
   "outputs": [
    {
     "data": {
      "text/html": [
       "<div>\n",
       "<style scoped>\n",
       "    .dataframe tbody tr th:only-of-type {\n",
       "        vertical-align: middle;\n",
       "    }\n",
       "\n",
       "    .dataframe tbody tr th {\n",
       "        vertical-align: top;\n",
       "    }\n",
       "\n",
       "    .dataframe thead th {\n",
       "        text-align: right;\n",
       "    }\n",
       "</style>\n",
       "<table border=\"1\" class=\"dataframe\">\n",
       "  <thead>\n",
       "    <tr style=\"text-align: right;\">\n",
       "      <th></th>\n",
       "      <th>Terrorism (deaths)</th>\n",
       "    </tr>\n",
       "  </thead>\n",
       "  <tbody>\n",
       "    <tr>\n",
       "      <th>0</th>\n",
       "      <td>1199.0</td>\n",
       "    </tr>\n",
       "    <tr>\n",
       "      <th>1</th>\n",
       "      <td>1092.0</td>\n",
       "    </tr>\n",
       "    <tr>\n",
       "      <th>2</th>\n",
       "      <td>1065.0</td>\n",
       "    </tr>\n",
       "    <tr>\n",
       "      <th>3</th>\n",
       "      <td>1525.0</td>\n",
       "    </tr>\n",
       "    <tr>\n",
       "      <th>4</th>\n",
       "      <td>3521.0</td>\n",
       "    </tr>\n",
       "  </tbody>\n",
       "</table>\n",
       "</div>"
      ],
      "text/plain": [
       "   Terrorism (deaths)\n",
       "0              1199.0\n",
       "1              1092.0\n",
       "2              1065.0\n",
       "3              1525.0\n",
       "4              3521.0"
      ]
     },
     "execution_count": 14,
     "metadata": {},
     "output_type": "execute_result"
    }
   ],
   "source": [
    "data_num_Terror = data_num[['Terrorism (deaths)']]\n",
    "data_num_Terror.head()"
   ]
  },
  {
   "cell_type": "code",
   "execution_count": 15,
   "id": "f7cea1fc",
   "metadata": {},
   "outputs": [],
   "source": [
    "from sklearn.impute import SimpleImputer\n",
    "from sklearn.impute import MissingIndicator"
   ]
  },
  {
   "cell_type": "code",
   "execution_count": 16,
   "id": "2e2cba1d",
   "metadata": {},
   "outputs": [
    {
     "data": {
      "text/plain": [
       "array([[False],\n",
       "       [False],\n",
       "       [False],\n",
       "       ...,\n",
       "       [False],\n",
       "       [ True],\n",
       "       [ True]])"
      ]
     },
     "execution_count": 16,
     "metadata": {},
     "output_type": "execute_result"
    }
   ],
   "source": [
    "# Фильтр для проверки заполнения пустых значений\n",
    "indicator = MissingIndicator()\n",
    "mask_missing_values_only = indicator.fit_transform(data_num_Terror)\n",
    "mask_missing_values_only"
   ]
  },
  {
   "cell_type": "markdown",
   "id": "ae03c2ba",
   "metadata": {},
   "source": [
    "С помощью класса SimpleImputer можно проводить импьютацию различными показателями центра распределения"
   ]
  },
  {
   "cell_type": "code",
   "execution_count": 17,
   "id": "7c746484",
   "metadata": {},
   "outputs": [],
   "source": [
    "strategies=['mean', 'median', 'most_frequent']"
   ]
  },
  {
   "cell_type": "code",
   "execution_count": 18,
   "id": "eb4e91f5",
   "metadata": {},
   "outputs": [],
   "source": [
    "def test_num_impute(strategy_param):\n",
    "    imp_num = SimpleImputer(strategy=strategy_param)\n",
    "    data_num_imp = imp_num.fit_transform(data_num_Terror)\n",
    "    return data_num_imp[mask_missing_values_only]"
   ]
  },
  {
   "cell_type": "code",
   "execution_count": 19,
   "id": "ea3e6bc8",
   "metadata": {},
   "outputs": [
    {
     "data": {
      "text/plain": [
       "('mean',\n",
       " array([349.23590453, 349.23590453, 349.23590453, ..., 349.23590453,\n",
       "        349.23590453, 349.23590453]))"
      ]
     },
     "execution_count": 19,
     "metadata": {},
     "output_type": "execute_result"
    }
   ],
   "source": [
    "strategies[0], test_num_impute(strategies[0])"
   ]
  },
  {
   "cell_type": "code",
   "execution_count": 20,
   "id": "26250999",
   "metadata": {},
   "outputs": [
    {
     "data": {
      "text/plain": [
       "('median', array([5., 5., 5., ..., 5., 5., 5.]))"
      ]
     },
     "execution_count": 20,
     "metadata": {},
     "output_type": "execute_result"
    }
   ],
   "source": [
    "strategies[1], test_num_impute(strategies[1])"
   ]
  },
  {
   "cell_type": "code",
   "execution_count": 21,
   "id": "d3cda225",
   "metadata": {},
   "outputs": [
    {
     "data": {
      "text/plain": [
       "('most_frequent', array([0., 0., 0., ..., 0., 0., 0.]))"
      ]
     },
     "execution_count": 21,
     "metadata": {},
     "output_type": "execute_result"
    }
   ],
   "source": [
    "strategies[2], test_num_impute(strategies[2])"
   ]
  },
  {
   "cell_type": "code",
   "execution_count": 22,
   "id": "cb545f55",
   "metadata": {},
   "outputs": [],
   "source": [
    "# Более сложная функция, которая позволяет задавать колонку и вид импьютации\n",
    "def test_num_impute_col(dataset, column, strategy_param):\n",
    "    temp_data = dataset[[column]]\n",
    "    \n",
    "    indicator = MissingIndicator()\n",
    "    mask_missing_values_only = indicator.fit_transform(temp_data)\n",
    "    \n",
    "    imp_num = SimpleImputer(strategy=strategy_param)\n",
    "    data_num_imp = imp_num.fit_transform(temp_data)\n",
    "    \n",
    "    filled_data = data_num_imp[mask_missing_values_only]\n",
    "    \n",
    "    return column, strategy_param, filled_data.size, filled_data[0], filled_data[filled_data.size-1]"
   ]
  },
  {
   "cell_type": "code",
   "execution_count": 23,
   "id": "54139197",
   "metadata": {},
   "outputs": [
    {
     "data": {
      "text/html": [
       "<div>\n",
       "<style scoped>\n",
       "    .dataframe tbody tr th:only-of-type {\n",
       "        vertical-align: middle;\n",
       "    }\n",
       "\n",
       "    .dataframe tbody tr th {\n",
       "        vertical-align: top;\n",
       "    }\n",
       "\n",
       "    .dataframe thead th {\n",
       "        text-align: right;\n",
       "    }\n",
       "</style>\n",
       "<table border=\"1\" class=\"dataframe\">\n",
       "  <thead>\n",
       "    <tr style=\"text-align: right;\">\n",
       "      <th></th>\n",
       "      <th>Deaths - Drug use disorders - Sex: Both - Age: All Ages (Number)</th>\n",
       "    </tr>\n",
       "  </thead>\n",
       "  <tbody>\n",
       "    <tr>\n",
       "      <th>count</th>\n",
       "      <td>8010.000000</td>\n",
       "    </tr>\n",
       "    <tr>\n",
       "      <th>mean</th>\n",
       "      <td>3469.958926</td>\n",
       "    </tr>\n",
       "    <tr>\n",
       "      <th>std</th>\n",
       "      <td>11186.514866</td>\n",
       "    </tr>\n",
       "    <tr>\n",
       "      <th>min</th>\n",
       "      <td>0.000000</td>\n",
       "    </tr>\n",
       "    <tr>\n",
       "      <th>25%</th>\n",
       "      <td>7.000000</td>\n",
       "    </tr>\n",
       "    <tr>\n",
       "      <th>50%</th>\n",
       "      <td>57.000000</td>\n",
       "    </tr>\n",
       "    <tr>\n",
       "      <th>75%</th>\n",
       "      <td>518.750000</td>\n",
       "    </tr>\n",
       "    <tr>\n",
       "      <th>max</th>\n",
       "      <td>128083.000000</td>\n",
       "    </tr>\n",
       "  </tbody>\n",
       "</table>\n",
       "</div>"
      ],
      "text/plain": [
       "       Deaths - Drug use disorders - Sex: Both - Age: All Ages (Number)\n",
       "count                                        8010.000000               \n",
       "mean                                         3469.958926               \n",
       "std                                         11186.514866               \n",
       "min                                             0.000000               \n",
       "25%                                             7.000000               \n",
       "50%                                            57.000000               \n",
       "75%                                           518.750000               \n",
       "max                                        128083.000000               "
      ]
     },
     "execution_count": 23,
     "metadata": {},
     "output_type": "execute_result"
    }
   ],
   "source": [
    "data[['Deaths - Drug use disorders - Sex: Both - Age: All Ages (Number)']].describe()"
   ]
  },
  {
   "cell_type": "code",
   "execution_count": 24,
   "id": "4ae25ef3",
   "metadata": {},
   "outputs": [
    {
     "data": {
      "text/plain": [
       "('Deaths - Drug use disorders - Sex: Both - Age: All Ages (Number)',\n",
       " 'mean',\n",
       " 244,\n",
       " 3469.9589263420726,\n",
       " 3469.9589263420726)"
      ]
     },
     "execution_count": 24,
     "metadata": {},
     "output_type": "execute_result"
    }
   ],
   "source": [
    "test_num_impute_col(data, 'Deaths - Drug use disorders - Sex: Both - Age: All Ages (Number)', strategies[0])"
   ]
  },
  {
   "cell_type": "code",
   "execution_count": 25,
   "id": "0b8a9b63",
   "metadata": {},
   "outputs": [
    {
     "data": {
      "text/plain": [
       "('Deaths - Drug use disorders - Sex: Both - Age: All Ages (Number)',\n",
       " 'median',\n",
       " 244,\n",
       " 57.0,\n",
       " 57.0)"
      ]
     },
     "execution_count": 25,
     "metadata": {},
     "output_type": "execute_result"
    }
   ],
   "source": [
    "test_num_impute_col(data, 'Deaths - Drug use disorders - Sex: Both - Age: All Ages (Number)', strategies[1])"
   ]
  },
  {
   "cell_type": "code",
   "execution_count": 26,
   "id": "31bd8444",
   "metadata": {},
   "outputs": [
    {
     "data": {
      "text/plain": [
       "('Deaths - Drug use disorders - Sex: Both - Age: All Ages (Number)',\n",
       " 'most_frequent',\n",
       " 244,\n",
       " 0.0,\n",
       " 0.0)"
      ]
     },
     "execution_count": 26,
     "metadata": {},
     "output_type": "execute_result"
    }
   ],
   "source": [
    "test_num_impute_col(data, 'Deaths - Drug use disorders - Sex: Both - Age: All Ages (Number)', strategies[2])"
   ]
  },
  {
   "cell_type": "markdown",
   "id": "9b853631",
   "metadata": {},
   "source": [
    "# Обработка пропусков в категориальных данных"
   ]
  },
  {
   "cell_type": "code",
   "execution_count": 27,
   "id": "02e19edc",
   "metadata": {},
   "outputs": [
    {
     "name": "stdout",
     "output_type": "stream",
     "text": [
      "Колонка Code. Тип данных object. Количество пустых значений 2048, 24.81%.\n",
      "Колонка Number of executions (Amnesty International). Тип данных object. Количество пустых значений 7987, 96.77%.\n"
     ]
    }
   ],
   "source": [
    "# Выберем категориальные колонки с пропущенными значениями\n",
    "# Цикл по колонкам датасета\n",
    "cat_cols = []\n",
    "for col in data.columns:\n",
    "    # Количество пустых значений \n",
    "    temp_null_count = data[data[col].isnull()].shape[0]\n",
    "    dt = str(data[col].dtype)\n",
    "    if temp_null_count>0 and (dt=='object'):\n",
    "        cat_cols.append(col)\n",
    "        temp_perc = round((temp_null_count / total_count) * 100.0, 2)\n",
    "        print('Колонка {}. Тип данных {}. Количество пустых значений {}, {}%.'.format(col, dt, temp_null_count, temp_perc))"
   ]
  },
  {
   "cell_type": "markdown",
   "id": "b392852f",
   "metadata": {},
   "source": [
    "Класс SimpleImputer можно использовать для категориальных признаков со стратегиями \"most_frequent\" или \"constant\"."
   ]
  },
  {
   "cell_type": "code",
   "execution_count": 28,
   "id": "a4623e79",
   "metadata": {},
   "outputs": [
    {
     "data": {
      "text/html": [
       "<div>\n",
       "<style scoped>\n",
       "    .dataframe tbody tr th:only-of-type {\n",
       "        vertical-align: middle;\n",
       "    }\n",
       "\n",
       "    .dataframe tbody tr th {\n",
       "        vertical-align: top;\n",
       "    }\n",
       "\n",
       "    .dataframe thead th {\n",
       "        text-align: right;\n",
       "    }\n",
       "</style>\n",
       "<table border=\"1\" class=\"dataframe\">\n",
       "  <thead>\n",
       "    <tr style=\"text-align: right;\">\n",
       "      <th></th>\n",
       "      <th>Code</th>\n",
       "    </tr>\n",
       "  </thead>\n",
       "  <tbody>\n",
       "    <tr>\n",
       "      <th>0</th>\n",
       "      <td>AFG</td>\n",
       "    </tr>\n",
       "    <tr>\n",
       "      <th>1</th>\n",
       "      <td>AFG</td>\n",
       "    </tr>\n",
       "    <tr>\n",
       "      <th>2</th>\n",
       "      <td>AFG</td>\n",
       "    </tr>\n",
       "    <tr>\n",
       "      <th>3</th>\n",
       "      <td>AFG</td>\n",
       "    </tr>\n",
       "    <tr>\n",
       "      <th>4</th>\n",
       "      <td>AFG</td>\n",
       "    </tr>\n",
       "  </tbody>\n",
       "</table>\n",
       "</div>"
      ],
      "text/plain": [
       "  Code\n",
       "0  AFG\n",
       "1  AFG\n",
       "2  AFG\n",
       "3  AFG\n",
       "4  AFG"
      ]
     },
     "execution_count": 28,
     "metadata": {},
     "output_type": "execute_result"
    }
   ],
   "source": [
    "cat_temp_data = data[['Code']]\n",
    "cat_temp_data.head()"
   ]
  },
  {
   "cell_type": "code",
   "execution_count": 29,
   "id": "c1d047f7",
   "metadata": {},
   "outputs": [
    {
     "data": {
      "text/plain": [
       "array(['AFG', nan, 'ALB', 'DZA', 'ASM', 'AND', 'AGO', 'ATG', 'ARG', 'ARM',\n",
       "       'AUS', 'AUT', 'AZE', 'BHS', 'BHR', 'BGD', 'BRB', 'BLR', 'BEL',\n",
       "       'BLZ', 'BEN', 'BMU', 'BTN', 'BOL', 'BIH', 'BWA', 'BRA', 'BRN',\n",
       "       'BGR', 'BFA', 'BDI', 'KHM', 'CMR', 'CAN', 'CPV', 'CAF', 'TCD',\n",
       "       'CHL', 'CHN', 'COL', 'COM', 'COG', 'COK', 'CRI', 'CIV', 'HRV',\n",
       "       'CUB', 'CYP', 'CZE', 'OWID_CZS', 'COD', 'DNK', 'DJI', 'DMA', 'DOM',\n",
       "       'ECU', 'EGY', 'SLV', 'GNQ', 'ERI', 'EST', 'SWZ', 'ETH', 'FJI',\n",
       "       'FIN', 'FRA', 'GUF', 'PYF', 'GAB', 'GMB', 'GEO', 'DEU', 'GHA',\n",
       "       'GRC', 'GRL', 'GRD', 'GLP', 'GUM', 'GTM', 'GIN', 'GNB', 'GUY',\n",
       "       'HTI', 'HND', 'HKG', 'HUN', 'ISL', 'IND', 'IDN', 'IRN', 'IRQ',\n",
       "       'IRL', 'ISR', 'ITA', 'JAM', 'JPN', 'JOR', 'KAZ', 'KEN', 'KIR',\n",
       "       'OWID_KOS', 'KWT', 'KGZ', 'LAO', 'LVA', 'LBN', 'LSO', 'LBR', 'LBY',\n",
       "       'LTU', 'LUX', 'MDG', 'MWI', 'MYS', 'MDV', 'MLI', 'MLT', 'MHL',\n",
       "       'MTQ', 'MRT', 'MUS', 'MEX', 'FSM', 'MDA', 'MCO', 'MNG', 'MNE',\n",
       "       'MAR', 'MOZ', 'MMR', 'NAM', 'NRU', 'NPL', 'NLD', 'NCL', 'NZL',\n",
       "       'NIC', 'NER', 'NGA', 'NIU', 'PRK', 'MKD', 'MNP', 'NOR', 'OMN',\n",
       "       'PAK', 'PLW', 'PSE', 'PAN', 'PNG', 'PRY', 'PER', 'PHL', 'POL',\n",
       "       'PRT', 'PRI', 'QAT', 'ROU', 'RUS', 'RWA', 'KNA', 'LCA', 'VCT',\n",
       "       'WSM', 'SMR', 'STP', 'SAU', 'SEN', 'SRB', 'SYC', 'SLE', 'SGP',\n",
       "       'SVK', 'SVN', 'SLB', 'SOM', 'ZAF', 'KOR', 'SSD', 'ESP', 'LKA',\n",
       "       'SDN', 'SUR', 'SWE', 'CHE', 'SYR', 'TWN', 'TJK', 'TZA', 'THA',\n",
       "       'TLS', 'TGO', 'TKL', 'TON', 'TTO', 'TUN', 'TUR', 'TKM', 'TUV',\n",
       "       'OWID_USS', 'UGA', 'UKR', 'ARE', 'GBR', 'USA', 'VIR', 'URY', 'UZB',\n",
       "       'VUT', 'VEN', 'VNM', 'WLF', 'ESH', 'OWID_WRL', 'YEM', 'OWID_YGS',\n",
       "       'ZMB', 'ZWE'], dtype=object)"
      ]
     },
     "execution_count": 29,
     "metadata": {},
     "output_type": "execute_result"
    }
   ],
   "source": [
    "cat_temp_data['Code'].unique()"
   ]
  },
  {
   "cell_type": "code",
   "execution_count": 30,
   "id": "a0068479",
   "metadata": {},
   "outputs": [
    {
     "data": {
      "text/plain": [
       "(2048, 1)"
      ]
     },
     "execution_count": 30,
     "metadata": {},
     "output_type": "execute_result"
    }
   ],
   "source": [
    "cat_temp_data[cat_temp_data['Code'].isnull()].shape"
   ]
  },
  {
   "cell_type": "code",
   "execution_count": 31,
   "id": "a527fde7",
   "metadata": {},
   "outputs": [
    {
     "data": {
      "text/plain": [
       "array([['AFG'],\n",
       "       ['AFG'],\n",
       "       ['AFG'],\n",
       "       ...,\n",
       "       ['ZWE'],\n",
       "       ['ZWE'],\n",
       "       ['ZWE']], dtype=object)"
      ]
     },
     "execution_count": 31,
     "metadata": {},
     "output_type": "execute_result"
    }
   ],
   "source": [
    "# Импьютация наиболее частыми значениями\n",
    "imp2 = SimpleImputer(missing_values=np.nan, strategy='most_frequent')\n",
    "data_imp2 = imp2.fit_transform(cat_temp_data)\n",
    "data_imp2"
   ]
  },
  {
   "cell_type": "code",
   "execution_count": 32,
   "id": "196dca87",
   "metadata": {},
   "outputs": [
    {
     "data": {
      "text/plain": [
       "array(['AFG', 'AGO', 'ALB', 'AND', 'ARE', 'ARG', 'ARM', 'ASM', 'ATG',\n",
       "       'AUS', 'AUT', 'AZE', 'BDI', 'BEL', 'BEN', 'BFA', 'BGD', 'BGR',\n",
       "       'BHR', 'BHS', 'BIH', 'BLR', 'BLZ', 'BMU', 'BOL', 'BRA', 'BRB',\n",
       "       'BRN', 'BTN', 'BWA', 'CAF', 'CAN', 'CHE', 'CHL', 'CHN', 'CIV',\n",
       "       'CMR', 'COD', 'COG', 'COK', 'COL', 'COM', 'CPV', 'CRI', 'CUB',\n",
       "       'CYP', 'CZE', 'DEU', 'DJI', 'DMA', 'DNK', 'DOM', 'DZA', 'ECU',\n",
       "       'EGY', 'ERI', 'ESH', 'ESP', 'EST', 'ETH', 'FIN', 'FJI', 'FRA',\n",
       "       'FSM', 'GAB', 'GBR', 'GEO', 'GHA', 'GIN', 'GLP', 'GMB', 'GNB',\n",
       "       'GNQ', 'GRC', 'GRD', 'GRL', 'GTM', 'GUF', 'GUM', 'GUY', 'HKG',\n",
       "       'HND', 'HRV', 'HTI', 'HUN', 'IDN', 'IND', 'IRL', 'IRN', 'IRQ',\n",
       "       'ISL', 'ISR', 'ITA', 'JAM', 'JOR', 'JPN', 'KAZ', 'KEN', 'KGZ',\n",
       "       'KHM', 'KIR', 'KNA', 'KOR', 'KWT', 'LAO', 'LBN', 'LBR', 'LBY',\n",
       "       'LCA', 'LKA', 'LSO', 'LTU', 'LUX', 'LVA', 'MAR', 'MCO', 'MDA',\n",
       "       'MDG', 'MDV', 'MEX', 'MHL', 'MKD', 'MLI', 'MLT', 'MMR', 'MNE',\n",
       "       'MNG', 'MNP', 'MOZ', 'MRT', 'MTQ', 'MUS', 'MWI', 'MYS', 'NAM',\n",
       "       'NCL', 'NER', 'NGA', 'NIC', 'NIU', 'NLD', 'NOR', 'NPL', 'NRU',\n",
       "       'NZL', 'OMN', 'OWID_CZS', 'OWID_KOS', 'OWID_USS', 'OWID_WRL',\n",
       "       'OWID_YGS', 'PAK', 'PAN', 'PER', 'PHL', 'PLW', 'PNG', 'POL', 'PRI',\n",
       "       'PRK', 'PRT', 'PRY', 'PSE', 'PYF', 'QAT', 'ROU', 'RUS', 'RWA',\n",
       "       'SAU', 'SDN', 'SEN', 'SGP', 'SLB', 'SLE', 'SLV', 'SMR', 'SOM',\n",
       "       'SRB', 'SSD', 'STP', 'SUR', 'SVK', 'SVN', 'SWE', 'SWZ', 'SYC',\n",
       "       'SYR', 'TCD', 'TGO', 'THA', 'TJK', 'TKL', 'TKM', 'TLS', 'TON',\n",
       "       'TTO', 'TUN', 'TUR', 'TUV', 'TWN', 'TZA', 'UGA', 'UKR', 'URY',\n",
       "       'USA', 'UZB', 'VCT', 'VEN', 'VIR', 'VNM', 'VUT', 'WLF', 'WSM',\n",
       "       'YEM', 'ZAF', 'ZMB', 'ZWE'], dtype=object)"
      ]
     },
     "execution_count": 32,
     "metadata": {},
     "output_type": "execute_result"
    }
   ],
   "source": [
    "# Пустые значения отсутствуют\n",
    "np.unique(data_imp2)"
   ]
  },
  {
   "cell_type": "code",
   "execution_count": 33,
   "id": "fce4218a",
   "metadata": {},
   "outputs": [
    {
     "data": {
      "text/plain": [
       "array([['AFG'],\n",
       "       ['AFG'],\n",
       "       ['AFG'],\n",
       "       ...,\n",
       "       ['ZWE'],\n",
       "       ['ZWE'],\n",
       "       ['ZWE']], dtype=object)"
      ]
     },
     "execution_count": 33,
     "metadata": {},
     "output_type": "execute_result"
    }
   ],
   "source": [
    "# Импьютация константой\n",
    "imp3 = SimpleImputer(missing_values=np.nan, strategy='constant', fill_value='NA')\n",
    "data_imp3 = imp3.fit_transform(cat_temp_data)\n",
    "data_imp3"
   ]
  },
  {
   "cell_type": "code",
   "execution_count": 34,
   "id": "d1ef0958",
   "metadata": {},
   "outputs": [
    {
     "data": {
      "text/plain": [
       "array(['AFG', 'AGO', 'ALB', 'AND', 'ARE', 'ARG', 'ARM', 'ASM', 'ATG',\n",
       "       'AUS', 'AUT', 'AZE', 'BDI', 'BEL', 'BEN', 'BFA', 'BGD', 'BGR',\n",
       "       'BHR', 'BHS', 'BIH', 'BLR', 'BLZ', 'BMU', 'BOL', 'BRA', 'BRB',\n",
       "       'BRN', 'BTN', 'BWA', 'CAF', 'CAN', 'CHE', 'CHL', 'CHN', 'CIV',\n",
       "       'CMR', 'COD', 'COG', 'COK', 'COL', 'COM', 'CPV', 'CRI', 'CUB',\n",
       "       'CYP', 'CZE', 'DEU', 'DJI', 'DMA', 'DNK', 'DOM', 'DZA', 'ECU',\n",
       "       'EGY', 'ERI', 'ESH', 'ESP', 'EST', 'ETH', 'FIN', 'FJI', 'FRA',\n",
       "       'FSM', 'GAB', 'GBR', 'GEO', 'GHA', 'GIN', 'GLP', 'GMB', 'GNB',\n",
       "       'GNQ', 'GRC', 'GRD', 'GRL', 'GTM', 'GUF', 'GUM', 'GUY', 'HKG',\n",
       "       'HND', 'HRV', 'HTI', 'HUN', 'IDN', 'IND', 'IRL', 'IRN', 'IRQ',\n",
       "       'ISL', 'ISR', 'ITA', 'JAM', 'JOR', 'JPN', 'KAZ', 'KEN', 'KGZ',\n",
       "       'KHM', 'KIR', 'KNA', 'KOR', 'KWT', 'LAO', 'LBN', 'LBR', 'LBY',\n",
       "       'LCA', 'LKA', 'LSO', 'LTU', 'LUX', 'LVA', 'MAR', 'MCO', 'MDA',\n",
       "       'MDG', 'MDV', 'MEX', 'MHL', 'MKD', 'MLI', 'MLT', 'MMR', 'MNE',\n",
       "       'MNG', 'MNP', 'MOZ', 'MRT', 'MTQ', 'MUS', 'MWI', 'MYS', 'NA',\n",
       "       'NAM', 'NCL', 'NER', 'NGA', 'NIC', 'NIU', 'NLD', 'NOR', 'NPL',\n",
       "       'NRU', 'NZL', 'OMN', 'OWID_CZS', 'OWID_KOS', 'OWID_USS',\n",
       "       'OWID_WRL', 'OWID_YGS', 'PAK', 'PAN', 'PER', 'PHL', 'PLW', 'PNG',\n",
       "       'POL', 'PRI', 'PRK', 'PRT', 'PRY', 'PSE', 'PYF', 'QAT', 'ROU',\n",
       "       'RUS', 'RWA', 'SAU', 'SDN', 'SEN', 'SGP', 'SLB', 'SLE', 'SLV',\n",
       "       'SMR', 'SOM', 'SRB', 'SSD', 'STP', 'SUR', 'SVK', 'SVN', 'SWE',\n",
       "       'SWZ', 'SYC', 'SYR', 'TCD', 'TGO', 'THA', 'TJK', 'TKL', 'TKM',\n",
       "       'TLS', 'TON', 'TTO', 'TUN', 'TUR', 'TUV', 'TWN', 'TZA', 'UGA',\n",
       "       'UKR', 'URY', 'USA', 'UZB', 'VCT', 'VEN', 'VIR', 'VNM', 'VUT',\n",
       "       'WLF', 'WSM', 'YEM', 'ZAF', 'ZMB', 'ZWE'], dtype=object)"
      ]
     },
     "execution_count": 34,
     "metadata": {},
     "output_type": "execute_result"
    }
   ],
   "source": [
    "np.unique(data_imp3)"
   ]
  },
  {
   "cell_type": "code",
   "execution_count": 35,
   "id": "37724de8",
   "metadata": {},
   "outputs": [
    {
     "data": {
      "text/plain": [
       "2048"
      ]
     },
     "execution_count": 35,
     "metadata": {},
     "output_type": "execute_result"
    }
   ],
   "source": [
    "data_imp3[data_imp3=='NA'].size"
   ]
  },
  {
   "cell_type": "markdown",
   "id": "a9df2953",
   "metadata": {},
   "source": [
    "# Преобразование категориальных признаков в числовые"
   ]
  },
  {
   "cell_type": "code",
   "execution_count": 36,
   "id": "317b4234",
   "metadata": {},
   "outputs": [
    {
     "data": {
      "text/html": [
       "<div>\n",
       "<style scoped>\n",
       "    .dataframe tbody tr th:only-of-type {\n",
       "        vertical-align: middle;\n",
       "    }\n",
       "\n",
       "    .dataframe tbody tr th {\n",
       "        vertical-align: top;\n",
       "    }\n",
       "\n",
       "    .dataframe thead th {\n",
       "        text-align: right;\n",
       "    }\n",
       "</style>\n",
       "<table border=\"1\" class=\"dataframe\">\n",
       "  <thead>\n",
       "    <tr style=\"text-align: right;\">\n",
       "      <th></th>\n",
       "      <th>c1</th>\n",
       "    </tr>\n",
       "  </thead>\n",
       "  <tbody>\n",
       "    <tr>\n",
       "      <th>0</th>\n",
       "      <td>AFG</td>\n",
       "    </tr>\n",
       "    <tr>\n",
       "      <th>1</th>\n",
       "      <td>AFG</td>\n",
       "    </tr>\n",
       "    <tr>\n",
       "      <th>2</th>\n",
       "      <td>AFG</td>\n",
       "    </tr>\n",
       "    <tr>\n",
       "      <th>3</th>\n",
       "      <td>AFG</td>\n",
       "    </tr>\n",
       "    <tr>\n",
       "      <th>4</th>\n",
       "      <td>AFG</td>\n",
       "    </tr>\n",
       "    <tr>\n",
       "      <th>...</th>\n",
       "      <td>...</td>\n",
       "    </tr>\n",
       "    <tr>\n",
       "      <th>8249</th>\n",
       "      <td>ZWE</td>\n",
       "    </tr>\n",
       "    <tr>\n",
       "      <th>8250</th>\n",
       "      <td>ZWE</td>\n",
       "    </tr>\n",
       "    <tr>\n",
       "      <th>8251</th>\n",
       "      <td>ZWE</td>\n",
       "    </tr>\n",
       "    <tr>\n",
       "      <th>8252</th>\n",
       "      <td>ZWE</td>\n",
       "    </tr>\n",
       "    <tr>\n",
       "      <th>8253</th>\n",
       "      <td>ZWE</td>\n",
       "    </tr>\n",
       "  </tbody>\n",
       "</table>\n",
       "<p>8254 rows × 1 columns</p>\n",
       "</div>"
      ],
      "text/plain": [
       "       c1\n",
       "0     AFG\n",
       "1     AFG\n",
       "2     AFG\n",
       "3     AFG\n",
       "4     AFG\n",
       "...   ...\n",
       "8249  ZWE\n",
       "8250  ZWE\n",
       "8251  ZWE\n",
       "8252  ZWE\n",
       "8253  ZWE\n",
       "\n",
       "[8254 rows x 1 columns]"
      ]
     },
     "execution_count": 36,
     "metadata": {},
     "output_type": "execute_result"
    }
   ],
   "source": [
    "cat_enc = pd.DataFrame({'c1':data_imp2.T[0]})\n",
    "cat_enc"
   ]
  },
  {
   "cell_type": "markdown",
   "id": "bb0c7fdd",
   "metadata": {},
   "source": [
    "# Кодирование категорий целочисленными значениями (label encoding)\n",
    "В этом случае уникальные значения категориального признака кодируются целыми числами.\n",
    "\n",
    "В scikit-learn для такого кодирования используется два класса :\n",
    "\n",
    "LabelEncoder - который ориентирован на применение к одному признаку. Этот класс прежде всего предназначен для кодирования целевого признака, но может быть также использован для последовательного кодирования отдельных нецелевых признаков.\n",
    "OrdinalEncoder - который ориентирован на применение к матрице объект-признак, то есть для кодирования матрицы нецелевых признаков."
   ]
  },
  {
   "cell_type": "markdown",
   "id": "1cb4cbb5",
   "metadata": {},
   "source": [
    "# Использование LabelEncoder"
   ]
  },
  {
   "cell_type": "code",
   "execution_count": 37,
   "id": "6e3f8163",
   "metadata": {},
   "outputs": [],
   "source": [
    "from sklearn.preprocessing import LabelEncoder"
   ]
  },
  {
   "cell_type": "code",
   "execution_count": 38,
   "id": "05fbe46f",
   "metadata": {},
   "outputs": [
    {
     "data": {
      "text/plain": [
       "array(['AFG', 'ALB', 'DZA', 'ASM', 'AND', 'AGO', 'ATG', 'ARG', 'ARM',\n",
       "       'AUS', 'AUT', 'AZE', 'BHS', 'BHR', 'BGD', 'BRB', 'BLR', 'BEL',\n",
       "       'BLZ', 'BEN', 'BMU', 'BTN', 'BOL', 'BIH', 'BWA', 'BRA', 'BRN',\n",
       "       'BGR', 'BFA', 'BDI', 'KHM', 'CMR', 'CAN', 'CPV', 'CAF', 'TCD',\n",
       "       'CHL', 'CHN', 'COL', 'COM', 'COG', 'COK', 'CRI', 'CIV', 'HRV',\n",
       "       'CUB', 'CYP', 'CZE', 'OWID_CZS', 'COD', 'DNK', 'DJI', 'DMA', 'DOM',\n",
       "       'ECU', 'EGY', 'SLV', 'GNQ', 'ERI', 'EST', 'SWZ', 'ETH', 'FJI',\n",
       "       'FIN', 'FRA', 'GUF', 'PYF', 'GAB', 'GMB', 'GEO', 'DEU', 'GHA',\n",
       "       'GRC', 'GRL', 'GRD', 'GLP', 'GUM', 'GTM', 'GIN', 'GNB', 'GUY',\n",
       "       'HTI', 'HND', 'HKG', 'HUN', 'ISL', 'IND', 'IDN', 'IRN', 'IRQ',\n",
       "       'IRL', 'ISR', 'ITA', 'JAM', 'JPN', 'JOR', 'KAZ', 'KEN', 'KIR',\n",
       "       'OWID_KOS', 'KWT', 'KGZ', 'LAO', 'LVA', 'LBN', 'LSO', 'LBR', 'LBY',\n",
       "       'LTU', 'LUX', 'MDG', 'MWI', 'MYS', 'MDV', 'MLI', 'MLT', 'MHL',\n",
       "       'MTQ', 'MRT', 'MUS', 'MEX', 'FSM', 'MDA', 'MCO', 'MNG', 'MNE',\n",
       "       'MAR', 'MOZ', 'MMR', 'NAM', 'NRU', 'NPL', 'NLD', 'NCL', 'NZL',\n",
       "       'NIC', 'NER', 'NGA', 'NIU', 'PRK', 'MKD', 'MNP', 'NOR', 'OMN',\n",
       "       'PAK', 'PLW', 'PSE', 'PAN', 'PNG', 'PRY', 'PER', 'PHL', 'POL',\n",
       "       'PRT', 'PRI', 'QAT', 'ROU', 'RUS', 'RWA', 'KNA', 'LCA', 'VCT',\n",
       "       'WSM', 'SMR', 'STP', 'SAU', 'SEN', 'SRB', 'SYC', 'SLE', 'SGP',\n",
       "       'SVK', 'SVN', 'SLB', 'SOM', 'ZAF', 'KOR', 'SSD', 'ESP', 'LKA',\n",
       "       'SDN', 'SUR', 'SWE', 'CHE', 'SYR', 'TWN', 'TJK', 'TZA', 'THA',\n",
       "       'TLS', 'TGO', 'TKL', 'TON', 'TTO', 'TUN', 'TUR', 'TKM', 'TUV',\n",
       "       'OWID_USS', 'UGA', 'UKR', 'ARE', 'GBR', 'USA', 'VIR', 'URY', 'UZB',\n",
       "       'VUT', 'VEN', 'VNM', 'WLF', 'ESH', 'OWID_WRL', 'YEM', 'OWID_YGS',\n",
       "       'ZMB', 'ZWE'], dtype=object)"
      ]
     },
     "execution_count": 38,
     "metadata": {},
     "output_type": "execute_result"
    }
   ],
   "source": [
    "cat_enc['c1'].unique()"
   ]
  },
  {
   "cell_type": "code",
   "execution_count": 39,
   "id": "4c4ae014",
   "metadata": {},
   "outputs": [],
   "source": [
    "le = LabelEncoder()\n",
    "cat_enc_le = le.fit_transform(cat_enc['c1'])"
   ]
  },
  {
   "cell_type": "code",
   "execution_count": 40,
   "id": "050859da",
   "metadata": {},
   "outputs": [
    {
     "data": {
      "text/plain": [
       "array(['AFG', 'AGO', 'ALB', 'AND', 'ARE', 'ARG', 'ARM', 'ASM', 'ATG',\n",
       "       'AUS', 'AUT', 'AZE', 'BDI', 'BEL', 'BEN', 'BFA', 'BGD', 'BGR',\n",
       "       'BHR', 'BHS', 'BIH', 'BLR', 'BLZ', 'BMU', 'BOL', 'BRA', 'BRB',\n",
       "       'BRN', 'BTN', 'BWA', 'CAF', 'CAN', 'CHE', 'CHL', 'CHN', 'CIV',\n",
       "       'CMR', 'COD', 'COG', 'COK', 'COL', 'COM', 'CPV', 'CRI', 'CUB',\n",
       "       'CYP', 'CZE', 'DEU', 'DJI', 'DMA', 'DNK', 'DOM', 'DZA', 'ECU',\n",
       "       'EGY', 'ERI', 'ESH', 'ESP', 'EST', 'ETH', 'FIN', 'FJI', 'FRA',\n",
       "       'FSM', 'GAB', 'GBR', 'GEO', 'GHA', 'GIN', 'GLP', 'GMB', 'GNB',\n",
       "       'GNQ', 'GRC', 'GRD', 'GRL', 'GTM', 'GUF', 'GUM', 'GUY', 'HKG',\n",
       "       'HND', 'HRV', 'HTI', 'HUN', 'IDN', 'IND', 'IRL', 'IRN', 'IRQ',\n",
       "       'ISL', 'ISR', 'ITA', 'JAM', 'JOR', 'JPN', 'KAZ', 'KEN', 'KGZ',\n",
       "       'KHM', 'KIR', 'KNA', 'KOR', 'KWT', 'LAO', 'LBN', 'LBR', 'LBY',\n",
       "       'LCA', 'LKA', 'LSO', 'LTU', 'LUX', 'LVA', 'MAR', 'MCO', 'MDA',\n",
       "       'MDG', 'MDV', 'MEX', 'MHL', 'MKD', 'MLI', 'MLT', 'MMR', 'MNE',\n",
       "       'MNG', 'MNP', 'MOZ', 'MRT', 'MTQ', 'MUS', 'MWI', 'MYS', 'NAM',\n",
       "       'NCL', 'NER', 'NGA', 'NIC', 'NIU', 'NLD', 'NOR', 'NPL', 'NRU',\n",
       "       'NZL', 'OMN', 'OWID_CZS', 'OWID_KOS', 'OWID_USS', 'OWID_WRL',\n",
       "       'OWID_YGS', 'PAK', 'PAN', 'PER', 'PHL', 'PLW', 'PNG', 'POL', 'PRI',\n",
       "       'PRK', 'PRT', 'PRY', 'PSE', 'PYF', 'QAT', 'ROU', 'RUS', 'RWA',\n",
       "       'SAU', 'SDN', 'SEN', 'SGP', 'SLB', 'SLE', 'SLV', 'SMR', 'SOM',\n",
       "       'SRB', 'SSD', 'STP', 'SUR', 'SVK', 'SVN', 'SWE', 'SWZ', 'SYC',\n",
       "       'SYR', 'TCD', 'TGO', 'THA', 'TJK', 'TKL', 'TKM', 'TLS', 'TON',\n",
       "       'TTO', 'TUN', 'TUR', 'TUV', 'TWN', 'TZA', 'UGA', 'UKR', 'URY',\n",
       "       'USA', 'UZB', 'VCT', 'VEN', 'VIR', 'VNM', 'VUT', 'WLF', 'WSM',\n",
       "       'YEM', 'ZAF', 'ZMB', 'ZWE'], dtype=object)"
      ]
     },
     "execution_count": 40,
     "metadata": {},
     "output_type": "execute_result"
    }
   ],
   "source": [
    "# Наименования категорий в соответствии с порядковыми номерами\n",
    "\n",
    "# Свойство называется classes, потому что предполагается что мы решаем \n",
    "# задачу классификации и каждое значение категории соответствует \n",
    "# какому-либо классу целевого признака\n",
    "\n",
    "le.classes_"
   ]
  },
  {
   "cell_type": "code",
   "execution_count": 41,
   "id": "c7e4683e",
   "metadata": {},
   "outputs": [
    {
     "data": {
      "text/plain": [
       "array([  0,   0,   0, ..., 216, 216, 216])"
      ]
     },
     "execution_count": 41,
     "metadata": {},
     "output_type": "execute_result"
    }
   ],
   "source": [
    "cat_enc_le"
   ]
  },
  {
   "cell_type": "code",
   "execution_count": 47,
   "id": "b2e92643",
   "metadata": {},
   "outputs": [
    {
     "data": {
      "text/plain": [
       "array([  0,   1,   2,   3,   4,   5,   6,   7,   8,   9,  10,  11,  12,\n",
       "        13,  14,  15,  16,  17,  18,  19,  20,  21,  22,  23,  24,  25,\n",
       "        26,  27,  28,  29,  30,  31,  32,  33,  34,  35,  36,  37,  38,\n",
       "        39,  40,  41,  42,  43,  44,  45,  46,  47,  48,  49,  50,  51,\n",
       "        52,  53,  54,  55,  56,  57,  58,  59,  60,  61,  62,  63,  64,\n",
       "        65,  66,  67,  68,  69,  70,  71,  72,  73,  74,  75,  76,  77,\n",
       "        78,  79,  80,  81,  82,  83,  84,  85,  86,  87,  88,  89,  90,\n",
       "        91,  92,  93,  94,  95,  96,  97,  98,  99, 100, 101, 102, 103,\n",
       "       104, 105, 106, 107, 108, 109, 110, 111, 112, 113, 114, 115, 116,\n",
       "       117, 118, 119, 120, 121, 122, 123, 124, 125, 126, 127, 128, 129,\n",
       "       130, 131, 132, 133, 134, 135, 136, 137, 138, 139, 140, 141, 142,\n",
       "       143, 144, 145, 146, 147, 148, 149, 150, 151, 152, 153, 154, 155,\n",
       "       156, 157, 158, 159, 160, 161, 162, 163, 164, 165, 166, 167, 168,\n",
       "       169, 170, 171, 172, 173, 174, 175, 176, 177, 178, 179, 180, 181,\n",
       "       182, 183, 184, 185, 186, 187, 188, 189, 190, 191, 192, 193, 194,\n",
       "       195, 196, 197, 198, 199, 200, 201, 202, 203, 204, 205, 206, 207,\n",
       "       208, 209, 210, 211, 212, 213, 214, 215, 216])"
      ]
     },
     "execution_count": 47,
     "metadata": {},
     "output_type": "execute_result"
    }
   ],
   "source": [
    "np.unique(cat_enc_le)"
   ]
  },
  {
   "cell_type": "code",
   "execution_count": 43,
   "id": "7fee07b7",
   "metadata": {},
   "outputs": [
    {
     "data": {
      "text/plain": [
       "array(['AFG', 'AGO', 'ALB', 'AND'], dtype=object)"
      ]
     },
     "execution_count": 43,
     "metadata": {},
     "output_type": "execute_result"
    }
   ],
   "source": [
    "# В этом примере видно, что перед кодированием \n",
    "# уникальные значения признака сортируются в лексикографиеском порядке\n",
    "le.inverse_transform([0, 1, 2, 3])"
   ]
  },
  {
   "cell_type": "code",
   "execution_count": 44,
   "id": "29ba410c",
   "metadata": {},
   "outputs": [],
   "source": [
    "from sklearn.preprocessing import OrdinalEncoder"
   ]
  },
  {
   "cell_type": "code",
   "execution_count": 49,
   "id": "58dfafe0",
   "metadata": {},
   "outputs": [
    {
     "data": {
      "text/html": [
       "<div>\n",
       "<style scoped>\n",
       "    .dataframe tbody tr th:only-of-type {\n",
       "        vertical-align: middle;\n",
       "    }\n",
       "\n",
       "    .dataframe tbody tr th {\n",
       "        vertical-align: top;\n",
       "    }\n",
       "\n",
       "    .dataframe thead th {\n",
       "        text-align: right;\n",
       "    }\n",
       "</style>\n",
       "<table border=\"1\" class=\"dataframe\">\n",
       "  <thead>\n",
       "    <tr style=\"text-align: right;\">\n",
       "      <th></th>\n",
       "      <th>Entity</th>\n",
       "      <th>Code</th>\n",
       "    </tr>\n",
       "  </thead>\n",
       "  <tbody>\n",
       "    <tr>\n",
       "      <th>0</th>\n",
       "      <td>Afghanistan</td>\n",
       "      <td>AFG</td>\n",
       "    </tr>\n",
       "    <tr>\n",
       "      <th>1</th>\n",
       "      <td>Afghanistan</td>\n",
       "      <td>AFG</td>\n",
       "    </tr>\n",
       "    <tr>\n",
       "      <th>2</th>\n",
       "      <td>Afghanistan</td>\n",
       "      <td>AFG</td>\n",
       "    </tr>\n",
       "    <tr>\n",
       "      <th>3</th>\n",
       "      <td>Afghanistan</td>\n",
       "      <td>AFG</td>\n",
       "    </tr>\n",
       "    <tr>\n",
       "      <th>4</th>\n",
       "      <td>Afghanistan</td>\n",
       "      <td>AFG</td>\n",
       "    </tr>\n",
       "  </tbody>\n",
       "</table>\n",
       "</div>"
      ],
      "text/plain": [
       "        Entity Code\n",
       "0  Afghanistan  AFG\n",
       "1  Afghanistan  AFG\n",
       "2  Afghanistan  AFG\n",
       "3  Afghanistan  AFG\n",
       "4  Afghanistan  AFG"
      ]
     },
     "execution_count": 49,
     "metadata": {},
     "output_type": "execute_result"
    }
   ],
   "source": [
    "data_oe = data[['Entity', 'Code']]\n",
    "data_oe.head()"
   ]
  },
  {
   "cell_type": "code",
   "execution_count": 50,
   "id": "ccc0cdb9",
   "metadata": {},
   "outputs": [
    {
     "data": {
      "text/plain": [
       "array([['Afghanistan', 'AFG'],\n",
       "       ['Afghanistan', 'AFG'],\n",
       "       ['Afghanistan', 'AFG'],\n",
       "       ...,\n",
       "       ['Zimbabwe', 'ZWE'],\n",
       "       ['Zimbabwe', 'ZWE'],\n",
       "       ['Zimbabwe', 'ZWE']], dtype=object)"
      ]
     },
     "execution_count": 50,
     "metadata": {},
     "output_type": "execute_result"
    }
   ],
   "source": [
    "imp4 = SimpleImputer(missing_values=np.nan, strategy='constant', fill_value='NA')\n",
    "data_oe_filled = imp4.fit_transform(data_oe)\n",
    "data_oe_filled"
   ]
  },
  {
   "cell_type": "code",
   "execution_count": 52,
   "id": "af72832d",
   "metadata": {},
   "outputs": [
    {
     "data": {
      "text/plain": [
       "array([[  0.,   0.],\n",
       "       [  0.,   0.],\n",
       "       [  0.,   0.],\n",
       "       ...,\n",
       "       [292., 217.],\n",
       "       [292., 217.],\n",
       "       [292., 217.]])"
      ]
     },
     "execution_count": 52,
     "metadata": {},
     "output_type": "execute_result"
    }
   ],
   "source": [
    "oe = OrdinalEncoder()\n",
    "cat_enc_oe = oe.fit_transform(data_oe_filled)\n",
    "cat_enc_oe"
   ]
  },
  {
   "cell_type": "code",
   "execution_count": 53,
   "id": "acd459c3",
   "metadata": {},
   "outputs": [
    {
     "data": {
      "text/plain": [
       "array([  0.,   1.,   2.,   3.,   4.,   5.,   6.,   7.,   8.,   9.,  10.,\n",
       "        11.,  12.,  13.,  14.,  15.,  16.,  17.,  18.,  19.,  20.,  21.,\n",
       "        22.,  23.,  24.,  25.,  26.,  27.,  28.,  29.,  30.,  31.,  32.,\n",
       "        33.,  34.,  35.,  36.,  37.,  38.,  39.,  40.,  41.,  42.,  43.,\n",
       "        44.,  45.,  46.,  47.,  48.,  49.,  50.,  51.,  52.,  53.,  54.,\n",
       "        55.,  56.,  57.,  58.,  59.,  60.,  61.,  62.,  63.,  64.,  65.,\n",
       "        66.,  67.,  68.,  69.,  70.,  71.,  72.,  73.,  74.,  75.,  76.,\n",
       "        77.,  78.,  79.,  80.,  81.,  82.,  83.,  84.,  85.,  86.,  87.,\n",
       "        88.,  89.,  90.,  91.,  92.,  93.,  94.,  95.,  96.,  97.,  98.,\n",
       "        99., 100., 101., 102., 103., 104., 105., 106., 107., 108., 109.,\n",
       "       110., 111., 112., 113., 114., 115., 116., 117., 118., 119., 120.,\n",
       "       121., 122., 123., 124., 125., 126., 127., 128., 129., 130., 131.,\n",
       "       132., 133., 134., 135., 136., 137., 138., 139., 140., 141., 142.,\n",
       "       143., 144., 145., 146., 147., 148., 149., 150., 151., 152., 153.,\n",
       "       154., 155., 156., 157., 158., 159., 160., 161., 162., 163., 164.,\n",
       "       165., 166., 167., 168., 169., 170., 171., 172., 173., 174., 175.,\n",
       "       176., 177., 178., 179., 180., 181., 182., 183., 184., 185., 186.,\n",
       "       187., 188., 189., 190., 191., 192., 193., 194., 195., 196., 197.,\n",
       "       198., 199., 200., 201., 202., 203., 204., 205., 206., 207., 208.,\n",
       "       209., 210., 211., 212., 213., 214., 215., 216., 217., 218., 219.,\n",
       "       220., 221., 222., 223., 224., 225., 226., 227., 228., 229., 230.,\n",
       "       231., 232., 233., 234., 235., 236., 237., 238., 239., 240., 241.,\n",
       "       242., 243., 244., 245., 246., 247., 248., 249., 250., 251., 252.,\n",
       "       253., 254., 255., 256., 257., 258., 259., 260., 261., 262., 263.,\n",
       "       264., 265., 266., 267., 268., 269., 270., 271., 272., 273., 274.,\n",
       "       275., 276., 277., 278., 279., 280., 281., 282., 283., 284., 285.,\n",
       "       286., 287., 288., 289., 290., 291., 292.])"
      ]
     },
     "execution_count": 53,
     "metadata": {},
     "output_type": "execute_result"
    }
   ],
   "source": [
    "# Уникальные значения 1 признака\n",
    "np.unique(cat_enc_oe[:, 0])"
   ]
  },
  {
   "cell_type": "code",
   "execution_count": 54,
   "id": "ef0cbbfe",
   "metadata": {},
   "outputs": [
    {
     "data": {
      "text/plain": [
       "array([  0.,   1.,   2.,   3.,   4.,   5.,   6.,   7.,   8.,   9.,  10.,\n",
       "        11.,  12.,  13.,  14.,  15.,  16.,  17.,  18.,  19.,  20.,  21.,\n",
       "        22.,  23.,  24.,  25.,  26.,  27.,  28.,  29.,  30.,  31.,  32.,\n",
       "        33.,  34.,  35.,  36.,  37.,  38.,  39.,  40.,  41.,  42.,  43.,\n",
       "        44.,  45.,  46.,  47.,  48.,  49.,  50.,  51.,  52.,  53.,  54.,\n",
       "        55.,  56.,  57.,  58.,  59.,  60.,  61.,  62.,  63.,  64.,  65.,\n",
       "        66.,  67.,  68.,  69.,  70.,  71.,  72.,  73.,  74.,  75.,  76.,\n",
       "        77.,  78.,  79.,  80.,  81.,  82.,  83.,  84.,  85.,  86.,  87.,\n",
       "        88.,  89.,  90.,  91.,  92.,  93.,  94.,  95.,  96.,  97.,  98.,\n",
       "        99., 100., 101., 102., 103., 104., 105., 106., 107., 108., 109.,\n",
       "       110., 111., 112., 113., 114., 115., 116., 117., 118., 119., 120.,\n",
       "       121., 122., 123., 124., 125., 126., 127., 128., 129., 130., 131.,\n",
       "       132., 133., 134., 135., 136., 137., 138., 139., 140., 141., 142.,\n",
       "       143., 144., 145., 146., 147., 148., 149., 150., 151., 152., 153.,\n",
       "       154., 155., 156., 157., 158., 159., 160., 161., 162., 163., 164.,\n",
       "       165., 166., 167., 168., 169., 170., 171., 172., 173., 174., 175.,\n",
       "       176., 177., 178., 179., 180., 181., 182., 183., 184., 185., 186.,\n",
       "       187., 188., 189., 190., 191., 192., 193., 194., 195., 196., 197.,\n",
       "       198., 199., 200., 201., 202., 203., 204., 205., 206., 207., 208.,\n",
       "       209., 210., 211., 212., 213., 214., 215., 216., 217.])"
      ]
     },
     "execution_count": 54,
     "metadata": {},
     "output_type": "execute_result"
    }
   ],
   "source": [
    "# Уникальные значения 2 признака\n",
    "np.unique(cat_enc_oe[:, 1])"
   ]
  },
  {
   "cell_type": "code",
   "execution_count": 56,
   "id": "ff76b278",
   "metadata": {},
   "outputs": [
    {
     "data": {
      "text/plain": [
       "[array(['Afghanistan', 'Africa', 'African Region', 'African Union',\n",
       "        'Albania', 'Algeria', 'America', 'American Samoa',\n",
       "        'Andean Latin America', 'Andorra', 'Angola', 'Antigua and Barbuda',\n",
       "        'Argentina', 'Armenia', 'Asia', 'Australasia',\n",
       "        'Australasia & Oceania', 'Australia', 'Austria', 'Azerbaijan',\n",
       "        'Bahamas', 'Bahrain', 'Bangladesh', 'Barbados', 'Belarus',\n",
       "        'Belgium', 'Belize', 'Benin', 'Bermuda', 'Bhutan', 'Bolivia',\n",
       "        'Bosnia and Herzegovina', 'Bosnia-Herzegovina', 'Botswana',\n",
       "        'Brazil', 'Brunei', 'Bulgaria', 'Burkina Faso', 'Burundi',\n",
       "        'Cambodia', 'Cameroon', 'Canada', 'Cape Verde', 'Caribbean',\n",
       "        'Central African Republic', 'Central America & Caribbean',\n",
       "        'Central Asia', 'Central Europe',\n",
       "        'Central Europe, Eastern Europe, and Central Asia',\n",
       "        'Central Latin America', 'Central sub-Saharan Africa', 'Chad',\n",
       "        'Chile', 'China', 'Colombia', 'Commonwealth',\n",
       "        'Commonwealth High Income', 'Commonwealth Low Income',\n",
       "        'Commonwealth Middle Income', 'Comoros', 'Congo', 'Cook Islands',\n",
       "        'Costa Rica', \"Cote d'Ivoire\", 'Croatia', 'Cuba', 'Cyprus',\n",
       "        'Czechia', 'Czechoslovakia', 'Democratic Republic of Congo',\n",
       "        'Denmark', 'Djibouti', 'Dominica', 'Dominican Republic',\n",
       "        'East Asia', 'East Asia & Pacific - World Bank region',\n",
       "        'East Germany (GDR)', 'East Timor', 'Eastern Europe',\n",
       "        'Eastern Mediterranean Region', 'Eastern sub-Saharan Africa',\n",
       "        'Ecuador', 'Egypt', 'El Salvador', 'England', 'Equatorial Guinea',\n",
       "        'Eritrea', 'Estonia', 'Eswatini', 'Ethiopia', 'Europe',\n",
       "        'Europe & Central Asia - World Bank region', 'European Region',\n",
       "        'European Union', 'Fiji', 'Finland', 'France', 'French Guiana',\n",
       "        'French Polynesia', 'G20', 'Gabon', 'Gambia', 'Georgia', 'Germany',\n",
       "        'Ghana', 'Greece', 'Greenland', 'Grenada', 'Guadeloupe', 'Guam',\n",
       "        'Guatemala', 'Guinea', 'Guinea-Bissau', 'Guyana', 'Haiti',\n",
       "        'High SDI', 'High-income', 'High-income Asia Pacific',\n",
       "        'High-income North America', 'High-middle SDI', 'Honduras',\n",
       "        'Hong Kong', 'Hungary', 'Iceland', 'India', 'Indonesia',\n",
       "        'International', 'Iran', 'Iraq', 'Ireland', 'Israel', 'Italy',\n",
       "        'Jamaica', 'Japan', 'Jordan', 'Kazakhstan', 'Kenya', 'Kiribati',\n",
       "        'Kosovo', 'Kuwait', 'Kyrgyzstan', 'Laos',\n",
       "        'Latin America & Caribbean - World Bank region', 'Latvia',\n",
       "        'Lebanon', 'Lesotho', 'Liberia', 'Libya', 'Lithuania', 'Low SDI',\n",
       "        'Low-middle SDI', 'Luxembourg', 'Macau', 'Madagascar', 'Malawi',\n",
       "        'Malaysia', 'Maldives', 'Mali', 'Malta', 'Marshall Islands',\n",
       "        'Martinique', 'Mauritania', 'Mauritius', 'Mexico',\n",
       "        'Micronesia (country)', 'Middle East & North Africa', 'Middle SDI',\n",
       "        'Moldova', 'Monaco', 'Mongolia', 'Montenegro', 'Morocco',\n",
       "        'Mozambique', 'Myanmar', 'Namibia', 'Nauru', 'Nepal',\n",
       "        'Netherlands', 'New Caledonia', 'New Zealand', 'Nicaragua',\n",
       "        'Niger', 'Nigeria', 'Niue', 'Nordic Region',\n",
       "        'North Africa and Middle East', 'North America', 'North Korea',\n",
       "        'North Macedonia', 'Northern Ireland', 'Northern Mariana Islands',\n",
       "        'Norway', 'OECD Countries', 'Oceania', 'Oman', 'Pakistan', 'Palau',\n",
       "        'Palestine', 'Panama', 'Papua New Guinea', 'Paraguay', 'Peru',\n",
       "        'Philippines', 'Poland', 'Portugal', 'Puerto Rico', 'Qatar',\n",
       "        'Region of the Americas', 'Romania', 'Russia', 'Rwanda',\n",
       "        'Saint Kitts and Nevis', 'Saint Lucia',\n",
       "        'Saint Vincent and the Grenadines', 'Samoa', 'San Marino',\n",
       "        'Sao Tome and Principe', 'Saudi Arabia', 'Scotland', 'Senegal',\n",
       "        'Serbia', 'Serbia-Montenegro', 'Seychelles', 'Sierra Leone',\n",
       "        'Singapore', 'Slovakia', 'Slovenia', 'Solomon Islands', 'Somalia',\n",
       "        'South Africa', 'South America', 'South Asia',\n",
       "        'South Asia - World Bank region', 'South Korea', 'South Sudan',\n",
       "        'South-East Asia Region', 'Southeast Asia',\n",
       "        'Southeast Asia, East Asia, and Oceania', 'Southern Latin America',\n",
       "        'Southern sub-Saharan Africa', 'Spain', 'Sri Lanka',\n",
       "        'Sub-Saharan Africa', 'Sub-Saharan Africa - World Bank region',\n",
       "        'Sudan', 'Suriname', 'Sweden', 'Switzerland', 'Syria', 'Taiwan',\n",
       "        'Tajikistan', 'Tanzania', 'Thailand', 'Timor', 'Togo', 'Tokelau',\n",
       "        'Tonga', 'Trinidad and Tobago', 'Tropical Latin America',\n",
       "        'Tunisia', 'Turkey', 'Turkmenistan', 'Tuvalu', 'USSR', 'Uganda',\n",
       "        'Ukraine', 'United Arab Emirates', 'United Kingdom',\n",
       "        'United States', 'United States Virgin Islands', 'Uruguay',\n",
       "        'Uzbekistan', 'Vanuatu', 'Venezuela', 'Vietnam', 'Wales',\n",
       "        'Wallis and Futuna', 'West Germany (FRG)', 'Western Europe',\n",
       "        'Western Pacific Region', 'Western Sahara',\n",
       "        'Western sub-Saharan Africa', 'World', 'World (excluding China)',\n",
       "        'World Bank High Income', 'World Bank Low Income',\n",
       "        'World Bank Lower Middle Income', 'World Bank Upper Middle Income',\n",
       "        'Yemen', 'Yugoslavia', 'Zaire', 'Zambia', 'Zimbabwe'], dtype=object),\n",
       " array(['AFG', 'AGO', 'ALB', 'AND', 'ARE', 'ARG', 'ARM', 'ASM', 'ATG',\n",
       "        'AUS', 'AUT', 'AZE', 'BDI', 'BEL', 'BEN', 'BFA', 'BGD', 'BGR',\n",
       "        'BHR', 'BHS', 'BIH', 'BLR', 'BLZ', 'BMU', 'BOL', 'BRA', 'BRB',\n",
       "        'BRN', 'BTN', 'BWA', 'CAF', 'CAN', 'CHE', 'CHL', 'CHN', 'CIV',\n",
       "        'CMR', 'COD', 'COG', 'COK', 'COL', 'COM', 'CPV', 'CRI', 'CUB',\n",
       "        'CYP', 'CZE', 'DEU', 'DJI', 'DMA', 'DNK', 'DOM', 'DZA', 'ECU',\n",
       "        'EGY', 'ERI', 'ESH', 'ESP', 'EST', 'ETH', 'FIN', 'FJI', 'FRA',\n",
       "        'FSM', 'GAB', 'GBR', 'GEO', 'GHA', 'GIN', 'GLP', 'GMB', 'GNB',\n",
       "        'GNQ', 'GRC', 'GRD', 'GRL', 'GTM', 'GUF', 'GUM', 'GUY', 'HKG',\n",
       "        'HND', 'HRV', 'HTI', 'HUN', 'IDN', 'IND', 'IRL', 'IRN', 'IRQ',\n",
       "        'ISL', 'ISR', 'ITA', 'JAM', 'JOR', 'JPN', 'KAZ', 'KEN', 'KGZ',\n",
       "        'KHM', 'KIR', 'KNA', 'KOR', 'KWT', 'LAO', 'LBN', 'LBR', 'LBY',\n",
       "        'LCA', 'LKA', 'LSO', 'LTU', 'LUX', 'LVA', 'MAR', 'MCO', 'MDA',\n",
       "        'MDG', 'MDV', 'MEX', 'MHL', 'MKD', 'MLI', 'MLT', 'MMR', 'MNE',\n",
       "        'MNG', 'MNP', 'MOZ', 'MRT', 'MTQ', 'MUS', 'MWI', 'MYS', 'NA',\n",
       "        'NAM', 'NCL', 'NER', 'NGA', 'NIC', 'NIU', 'NLD', 'NOR', 'NPL',\n",
       "        'NRU', 'NZL', 'OMN', 'OWID_CZS', 'OWID_KOS', 'OWID_USS',\n",
       "        'OWID_WRL', 'OWID_YGS', 'PAK', 'PAN', 'PER', 'PHL', 'PLW', 'PNG',\n",
       "        'POL', 'PRI', 'PRK', 'PRT', 'PRY', 'PSE', 'PYF', 'QAT', 'ROU',\n",
       "        'RUS', 'RWA', 'SAU', 'SDN', 'SEN', 'SGP', 'SLB', 'SLE', 'SLV',\n",
       "        'SMR', 'SOM', 'SRB', 'SSD', 'STP', 'SUR', 'SVK', 'SVN', 'SWE',\n",
       "        'SWZ', 'SYC', 'SYR', 'TCD', 'TGO', 'THA', 'TJK', 'TKL', 'TKM',\n",
       "        'TLS', 'TON', 'TTO', 'TUN', 'TUR', 'TUV', 'TWN', 'TZA', 'UGA',\n",
       "        'UKR', 'URY', 'USA', 'UZB', 'VCT', 'VEN', 'VIR', 'VNM', 'VUT',\n",
       "        'WLF', 'WSM', 'YEM', 'ZAF', 'ZMB', 'ZWE'], dtype=object)]"
      ]
     },
     "execution_count": 56,
     "metadata": {},
     "output_type": "execute_result"
    }
   ],
   "source": [
    "# Наименования категорий в соответствии с порядковыми номерами\n",
    "oe.categories_"
   ]
  },
  {
   "cell_type": "code",
   "execution_count": 57,
   "id": "43611043",
   "metadata": {},
   "outputs": [
    {
     "data": {
      "text/plain": [
       "array([['Afghanistan', 'AFG'],\n",
       "       ['Afghanistan', 'AFG'],\n",
       "       ['Afghanistan', 'AFG'],\n",
       "       ...,\n",
       "       ['Zimbabwe', 'ZWE'],\n",
       "       ['Zimbabwe', 'ZWE'],\n",
       "       ['Zimbabwe', 'ZWE']], dtype=object)"
      ]
     },
     "execution_count": 57,
     "metadata": {},
     "output_type": "execute_result"
    }
   ],
   "source": [
    "# Обратное преобразование\n",
    "oe.inverse_transform(cat_enc_oe)"
   ]
  },
  {
   "cell_type": "markdown",
   "id": "3a1e569e",
   "metadata": {},
   "source": [
    "# Проблемы использования LabelEncoder и OrdinalEncoder\n",
    "Необходимо отметить, что LabelEncoder и OrdinalEncoder могут использоваться только для категориальных признаков в номинальных шкалах (для которых отсутствует порядок), например города, страны, названия рек и т.д.\n",
    "\n",
    "Это связано с тем, что задать какой-либо порядок при кодировании с помощью LabelEncoder и OrdinalEncoder невозможно, они сортируют категории в лексикографическом порядке.\n",
    "\n",
    "При этом кодирование целыми числами создает фиктивное отношение порядка (1 < 2 < 3 < ...) которого не было в исходных номинальных шкалах. Данное отношение порядка может негативно повлиять на построение модели машинного обучения."
   ]
  },
  {
   "cell_type": "markdown",
   "id": "ade9ca03",
   "metadata": {},
   "source": [
    "# Масштабирование данных\n",
    "Термины \"масштабирование\" и \"нормализация\" часто используются как синонимы, но это неверно. Масштабирование предполагает изменение диапазона измерения величины, а нормализация - изменение распределения этой величины. В этом разделе рассматривается только масштабирование.\n",
    "\n",
    "Если признаки лежат в различных диапазонах, то необходимо их нормализовать. Как правило, применяют два подхода:\n",
    "\n",
    "MinMax масштабирование:\n",
    "xновый=xстарый−min(X)max(X)−min(X)\n",
    "В этом случае значения лежат в диапазоне от 0 до 1.\n",
    "\n",
    "Масштабирование данных на основе Z-оценки:\n",
    "xновый=xстарый−AVG(X)σ(X)\n",
    "В этом случае большинство значений попадает в диапазон от -3 до 3.\n",
    "\n",
    "где X - матрица объект-признак, AVG(X) - среднее значение, σ - среднеквадратичное отклонение."
   ]
  },
  {
   "cell_type": "code",
   "execution_count": 58,
   "id": "b506e736",
   "metadata": {},
   "outputs": [],
   "source": [
    "from sklearn.preprocessing import MinMaxScaler, StandardScaler, Normalizer"
   ]
  },
  {
   "cell_type": "markdown",
   "id": "40a22059",
   "metadata": {},
   "source": [
    "# MinMax масштабирование"
   ]
  },
  {
   "cell_type": "code",
   "execution_count": 67,
   "id": "8e52d3e8",
   "metadata": {},
   "outputs": [],
   "source": [
    "sc1 = MinMaxScaler()\n",
    "sc1_data = sc1.fit_transform(data[['Deaths - Fire, heat, and hot substances - Sex: Both - Age: All Ages (Number)']])"
   ]
  },
  {
   "cell_type": "code",
   "execution_count": 68,
   "id": "36f91adc",
   "metadata": {},
   "outputs": [
    {
     "data": {
      "image/png": "[encoded data removed]",
      "text/plain": [
       "<Figure size 432x288 with 1 Axes>"
      ]
     },
     "metadata": {},
     "output_type": "display_data"
    }
   ],
   "source": [
    "plt.hist(data['Deaths - Fire, heat, and hot substances - Sex: Both - Age: All Ages (Number)'], 30)\n",
    "plt.show()"
   ]
  },
  {
   "cell_type": "code",
   "execution_count": 70,
   "id": "2790a6a2",
   "metadata": {},
   "outputs": [
    {
     "data": {
      "image/png": "[encoded data removed]",
      "text/plain": [
       "<Figure size 432x288 with 1 Axes>"
      ]
     },
     "metadata": {},
     "output_type": "display_data"
    }
   ],
   "source": [
    "plt.hist(sc1_data, 30)\n",
    "plt.show()"
   ]
  },
  {
   "cell_type": "markdown",
   "id": "02025ef5",
   "metadata": {},
   "source": [
    "# Масштабирование данных на основе Z-оценки - StandardScaler"
   ]
  },
  {
   "cell_type": "code",
   "execution_count": 77,
   "id": "71c9a5f9",
   "metadata": {},
   "outputs": [
    {
     "data": {
      "image/png": "[encoded data removed]",
      "text/plain": [
       "<Figure size 432x288 with 1 Axes>"
      ]
     },
     "metadata": {},
     "output_type": "display_data"
    }
   ],
   "source": [
    "sc2 = StandardScaler()\n",
    "sc2_data = sc2.fit_transform(data[['Deaths - Meningitis - Sex: Both - Age: All Ages (Number)']])\n",
    "plt.hist(data['Deaths - Meningitis - Sex: Both - Age: All Ages (Number)'], 30)\n",
    "plt.show()"
   ]
  },
  {
   "cell_type": "code",
   "execution_count": 73,
   "id": "2289d173",
   "metadata": {},
   "outputs": [
    {
     "data": {
      "image/png": "[encoded data removed]",
      "text/plain": [
       "<Figure size 432x288 with 1 Axes>"
      ]
     },
     "metadata": {},
     "output_type": "display_data"
    }
   ],
   "source": [
    "plt.hist(sc2_data, 30)\n",
    "plt.show()"
   ]
  },
  {
   "cell_type": "code",
   "execution_count": null,
   "id": "26e111e0",
   "metadata": {},
   "outputs": [],
   "source": []
  }
 ],
 "metadata": {
  "kernelspec": {
   "display_name": "Python 3 (ipykernel)",
   "language": "python",
   "name": "python3"
  },
  "language_info": {
   "codemirror_mode": {
    "name": "ipython",
    "version": 3
   },
   "file_extension": ".py",
   "mimetype": "text/x-python",
   "name": "python",
   "nbconvert_exporter": "python",
   "pygments_lexer": "ipython3",
   "version": "3.9.7"
  }
 },
 "nbformat": 4,
 "nbformat_minor": 5
}
